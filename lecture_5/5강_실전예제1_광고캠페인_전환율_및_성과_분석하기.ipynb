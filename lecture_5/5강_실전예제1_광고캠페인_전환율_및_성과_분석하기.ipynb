{
 "cells": [
  {
   "cell_type": "markdown",
   "metadata": {
    "id": "MTw2IyRlsui-"
   },
   "source": [
    "# 5강 - 실전예제1 - 광고캠페인 전환율 및 성과 분석하기"
   ]
  },
  {
   "cell_type": "markdown",
   "metadata": {},
   "source": [
    "## 작성자 : AISchool (http://aischool.ai/)"
   ]
  },
  {
   "cell_type": "markdown",
   "metadata": {
    "id": "ijDtX6ynTdno"
   },
   "source": [
    "**Data source** : https://www.kaggle.com/loveall/clicks-conversion-tracking\n",
    "\n",
    "**Reference** : https://www.kaggle.com/mansimeena/facebook-ad-campaigns-analysis-sales-prediction\n",
    "\n",
    "**데이터 설명:**\n",
    "\n",
    "이 프로젝트에서 사용하는 데이터는 익명화된 어떤 회사의 소셜 미디어(Facebook) 광고 집행 결과에 대한 데이터입니다.\n",
    "\n",
    "각 데이터의 컬럼이 의미하는 바는 다음과 같습니다.\n",
    "\n",
    "1. **ad_id** : 각각의 광고에 대한 고유한(unique)한 ID입니다.\n",
    "2. **xyzcampaignid** : XYZ 회사에서 부여한 각 AD의 캠페인 ID\n",
    "3. **fbcampaignid** : Facebook에서 부여한 각 AD의 캠페인 ID\n",
    "4. **age** : 각 AD가 노출된 사용자의 나이\n",
    "5. **gender** : 각 AD가 노출된 사용자의 성별\n",
    "6. **interest** : 사용자의 Facebook 공개프로필에 기반해서 파악한 사용자의 관심사 code\n",
    "7. **Impressions** : 광고가 노출된 횟수\n",
    "8. **Clicks** : 광고가 클릭된 횟수\n",
    "9. **Spent** : xyz가 해당 AD에 Facebook에 지출한 비용(paid)\n",
    "10. **Total conversion** : 광고를 본 후에 제품에 문의를 준 사람의 수\n",
    "11. **Approved conversion** : 광고를 본 후에 제품을 실제로 구매한 사람의 수"
   ]
  },
  {
   "cell_type": "markdown",
   "metadata": {
    "id": "nJLk7gRsTwLu"
   },
   "source": [
    "## 데이터 분석의 목표\n",
    "\n",
    "전환율(Conversion) 분석"
   ]
  },
  {
   "cell_type": "markdown",
   "metadata": {
    "id": "3djzR9mWZYD6"
   },
   "source": [
    "# 라이브러리 import"
   ]
  },
  {
   "cell_type": "code",
   "execution_count": 1,
   "metadata": {},
   "outputs": [],
   "source": [
    "import numpy as np\n",
    "import pandas as pd\n",
    "import matplotlib.pyplot as plt\n",
    "import seaborn as sns\n",
    "\n",
    "plt.rcParams['font.family'] = 'NanumGothic' # 윈도우(Windwos) 사용자\n",
    "#plt.rcParams['font.family'] = 'AppleGothic' # 맥(Mac) 사용자"
   ]
  },
  {
   "cell_type": "markdown",
   "metadata": {
    "id": "LS6u9lS72yZn"
   },
   "source": [
    "# 데이터 불러오기"
   ]
  },
  {
   "cell_type": "raw",
   "metadata": {
    "id": "vcHOz_BKYiBl"
   },
   "source": [
    "df = pd.read_csv(\"./KAG_conversion_data.csv\")"
   ]
  },
  {
   "cell_type": "code",
   "execution_count": null,
   "metadata": {},
   "outputs": [],
   "source": []
  },
  {
   "cell_type": "raw",
   "metadata": {
    "id": "-3sQlsWda8AF",
    "outputId": "c4ac58c4-c462-434f-825b-94db9d0618ea"
   },
   "source": [
    "df.head()"
   ]
  },
  {
   "cell_type": "code",
   "execution_count": null,
   "metadata": {},
   "outputs": [],
   "source": []
  },
  {
   "cell_type": "markdown",
   "metadata": {
    "id": "64LQO_DssTdb"
   },
   "source": [
    "**null값이 있는지 확인하기**"
   ]
  },
  {
   "cell_type": "raw",
   "metadata": {
    "id": "LFFqbHOwsMZu",
    "outputId": "fb514434-c376-401e-af5f-309fceb13949"
   },
   "source": [
    "df.info()"
   ]
  },
  {
   "cell_type": "code",
   "execution_count": null,
   "metadata": {},
   "outputs": [],
   "source": []
  },
  {
   "cell_type": "markdown",
   "metadata": {
    "id": "hWwKT6iZdnbn"
   },
   "source": [
    "# EDA(Exploratory Data Analysis)로 데이터 분석하기"
   ]
  },
  {
   "cell_type": "raw",
   "metadata": {
    "id": "ScyvdvI2s27b",
    "outputId": "07f59e04-c432-4487-ab45-3c5fe526b1ae"
   },
   "source": [
    "df.shape"
   ]
  },
  {
   "cell_type": "code",
   "execution_count": null,
   "metadata": {},
   "outputs": [],
   "source": []
  },
  {
   "cell_type": "raw",
   "metadata": {
    "id": "U6nGur6Wsbx9",
    "outputId": "9a7e38e3-84ad-45fc-af4c-91a663091fa1"
   },
   "source": [
    "df.describe()"
   ]
  },
  {
   "cell_type": "code",
   "execution_count": null,
   "metadata": {},
   "outputs": [],
   "source": []
  },
  {
   "cell_type": "markdown",
   "metadata": {
    "id": "W4POAiyUk3DX"
   },
   "source": [
    "# Correlation Matrix로 상관분석해보기"
   ]
  },
  {
   "cell_type": "raw",
   "metadata": {
    "id": "2H2RjwksqSqQ",
    "outputId": "b85b5ef9-0458-48ad-dfec-91534917208b"
   },
   "source": [
    "g = sns.heatmap(df[[\"Impressions\",\"Clicks\",\"Spent\",\"Total_Conversion\",\"Approved_Conversion\"]].corr(),\n",
    "              annot = True,\n",
    "              fmt = \".2f\",\n",
    "              cmap = \"coolwarm\")"
   ]
  },
  {
   "cell_type": "code",
   "execution_count": null,
   "metadata": {},
   "outputs": [],
   "source": []
  },
  {
   "cell_type": "markdown",
   "metadata": {},
   "source": [
    "# 각 Feature와 Approved_Conversion간의 연관관계 분석해보기"
   ]
  },
  {
   "cell_type": "markdown",
   "metadata": {},
   "source": [
    "> regplot을 이용해서 각 Feature들과 Approved_Conversion간의 연관관계를 분석해봅시다."
   ]
  },
  {
   "cell_type": "raw",
   "metadata": {},
   "source": [
    "sns.regplot(data=df, x=\"Impressions\", y=\"Approved_Conversion\");"
   ]
  },
  {
   "cell_type": "code",
   "execution_count": null,
   "metadata": {},
   "outputs": [],
   "source": []
  },
  {
   "cell_type": "raw",
   "metadata": {},
   "source": [
    "sns.regplot(data=df, x=\"Clicks\", y=\"Approved_Conversion\");"
   ]
  },
  {
   "cell_type": "code",
   "execution_count": null,
   "metadata": {},
   "outputs": [],
   "source": []
  },
  {
   "cell_type": "raw",
   "metadata": {},
   "source": [
    "sns.regplot(data=df, x=\"Spent\", y=\"Approved_Conversion\");"
   ]
  },
  {
   "cell_type": "code",
   "execution_count": null,
   "metadata": {},
   "outputs": [],
   "source": []
  },
  {
   "cell_type": "raw",
   "metadata": {},
   "source": [
    "sns.regplot(data=df, x=\"Total_Conversion\", y=\"Approved_Conversion\");"
   ]
  },
  {
   "cell_type": "code",
   "execution_count": null,
   "metadata": {},
   "outputs": [],
   "source": []
  },
  {
   "cell_type": "markdown",
   "metadata": {
    "id": "19IfKGg3fKtg"
   },
   "source": [
    "# 캠페인 분석"
   ]
  },
  {
   "cell_type": "raw",
   "metadata": {
    "id": "ub5tZRnua-Cf",
    "outputId": "2ebcc081-eace-43c9-cfa0-899f0bf6c10b"
   },
   "source": [
    "# unique한 campaign id를 얻기\n",
    "df[\"xyz_campaign_id\"].unique()"
   ]
  },
  {
   "cell_type": "code",
   "execution_count": null,
   "metadata": {},
   "outputs": [],
   "source": []
  },
  {
   "cell_type": "markdown",
   "metadata": {
    "id": "nd2hqmT13L1q"
   },
   "source": [
    "## xyz 회사를 위한 3개의 다른 광고 캠페인이 있습니다. 각 캠페인을 직관적으로 이해하기 위해서 \"campaignA\", \"campaignB\", \"campaignC\"라는 이름을 붙여줍니다."
   ]
  },
  {
   "cell_type": "raw",
   "metadata": {
    "id": "fYiNpjfXZw9W"
   },
   "source": [
    "df[\"xyz_campaign_id\"].replace({916:\"campaignA\",936:\"campaignB\",1178:\"campaignC\"}, inplace=True)"
   ]
  },
  {
   "cell_type": "code",
   "execution_count": null,
   "metadata": {},
   "outputs": [],
   "source": []
  },
  {
   "cell_type": "raw",
   "metadata": {
    "id": "345tvet_KbCe",
    "outputId": "24a17ef5-7966-405c-8e06-b51967eb2293"
   },
   "source": [
    "df"
   ]
  },
  {
   "cell_type": "code",
   "execution_count": null,
   "metadata": {},
   "outputs": [],
   "source": []
  },
  {
   "cell_type": "raw",
   "metadata": {
    "id": "WjPq_7mbb0Lb",
    "outputId": "aa2ef47a-2ba8-4960-de10-d6ed26da68f5"
   },
   "source": [
    "# 캠페인별 광고 집행 개수를 출력해봅니다.\n",
    "sns.countplot(x ='xyz_campaign_id', data = df)\n",
    "plt.title('캠페인별 광고집행 횟수')\n",
    "plt.show()"
   ]
  },
  {
   "cell_type": "code",
   "execution_count": null,
   "metadata": {},
   "outputs": [],
   "source": []
  },
  {
   "cell_type": "markdown",
   "metadata": {
    "id": "GUI2hXiIwW11"
   },
   "source": [
    "## \"campaignC\"가 가장 많은 광고 집행횟수를 가지고 있는 모습을 볼 수 있습니다."
   ]
  },
  {
   "cell_type": "raw",
   "metadata": {
    "id": "ptahrIpIcTk7",
    "outputId": "9a70de33-12a7-4a1e-f452-4d6d3fa9b2ea"
   },
   "source": [
    "# 캠페인별 Approved_Conversion 개수를 출력해봅니다.\n",
    "sns.barplot(x = df[\"xyz_campaign_id\"], y = df[\"Approved_Conversion\"])\n",
    "plt.title(\"캠페인별 전환수\")\n",
    "plt.show()"
   ]
  },
  {
   "cell_type": "code",
   "execution_count": null,
   "metadata": {},
   "outputs": [],
   "source": []
  },
  {
   "cell_type": "raw",
   "metadata": {},
   "source": [
    "# 캠페인별 Approved_Conversion 개수를 출력해봅니다.\n",
    "sns.boxplot(x = df[\"xyz_campaign_id\"], y = df[\"Approved_Conversion\"])\n",
    "plt.title(\"캠페인별 전환수\")\n",
    "plt.show()"
   ]
  },
  {
   "cell_type": "code",
   "execution_count": null,
   "metadata": {},
   "outputs": [],
   "source": []
  },
  {
   "cell_type": "markdown",
   "metadata": {
    "id": "WscfKIMK3rVf"
   },
   "source": [
    "## \"campaignC\"가 가장 많은 Approved_Conversion(=실제 구매 횟수)를 가지고 있는 모습을 볼 수 있습니다."
   ]
  },
  {
   "cell_type": "markdown",
   "metadata": {
    "id": "CCcDFQbB_min"
   },
   "source": [
    "# 나이를 기준으로 살펴보기"
   ]
  },
  {
   "cell_type": "raw",
   "metadata": {
    "id": "pe18VnjvjWLp",
    "outputId": "5eb0a8a5-6d8a-4d8b-ec47-ca1432b55548"
   },
   "source": [
    "# 나이를 기준으로한 집행 횟수를 그래프로 표현해봅니다. \n",
    "sns.countplot(x ='age', data = df) \n",
    "plt.title('나이대별 집행횟수')\n",
    "plt.show() "
   ]
  },
  {
   "cell_type": "code",
   "execution_count": null,
   "metadata": {},
   "outputs": [],
   "source": []
  },
  {
   "cell_type": "raw",
   "metadata": {},
   "source": [
    "sns.boxplot(x = df['age'], y = df['Approved_Conversion'])\n",
    "plt.title('나이대별 전환율')\n",
    "plt.show()"
   ]
  },
  {
   "cell_type": "code",
   "execution_count": null,
   "metadata": {},
   "outputs": [],
   "source": []
  },
  {
   "cell_type": "raw",
   "metadata": {
    "id": "ljiNE-Yvf8UQ",
    "outputId": "02dfb778-bb1c-4954-d2a2-c8e20919e5e7"
   },
   "source": [
    "sns.set(style=\"whitegrid\")\n",
    "sns.barplot(x = df[\"xyz_campaign_id\"], y = df[\"Approved_Conversion\"], hue=df[\"age\"])\n",
    "plt.show()"
   ]
  },
  {
   "cell_type": "code",
   "execution_count": null,
   "metadata": {},
   "outputs": [],
   "source": []
  },
  {
   "cell_type": "markdown",
   "metadata": {
    "id": "KGLvXft74TF2"
   },
   "source": [
    "## campaignB와 campaignC는 30-34세의 사람이 가장 큰 전환을 보이고, campaignA는 40-44세의 사람이 가장 큰 전환을 보이는 모습을 볼 수 있습니다."
   ]
  },
  {
   "cell_type": "markdown",
   "metadata": {
    "id": "dFXsANUU_pCB"
   },
   "source": [
    "# 성별로 분석해보기"
   ]
  },
  {
   "cell_type": "raw",
   "metadata": {
    "id": "eOhsSWnnl0Dv",
    "outputId": "3cd068ba-3a2b-4d9a-8a17-17958a0d88e6"
   },
   "source": [
    "# 성별별 광고 집행횟수 살펴보기\n",
    "sns.countplot(x ='gender', data = df) \n",
    "plt.show() "
   ]
  },
  {
   "cell_type": "code",
   "execution_count": null,
   "metadata": {},
   "outputs": [],
   "source": []
  },
  {
   "cell_type": "raw",
   "metadata": {},
   "source": [
    "sns.boxplot(x=df['gender'], y=df['Approved_Conversion'])\n",
    "plt.show()"
   ]
  },
  {
   "cell_type": "code",
   "execution_count": null,
   "metadata": {},
   "outputs": [],
   "source": []
  },
  {
   "cell_type": "raw",
   "metadata": {
    "id": "PeSD7NfTgatw",
    "outputId": "43d30997-a990-4047-a7d3-58fe7d236e2f",
    "scrolled": true
   },
   "source": [
    "sns.set(style=\"whitegrid\")\n",
    "sns.barplot(x = df[\"xyz_campaign_id\"], y = df[\"Approved_Conversion\"], hue=df[\"gender\"])\n",
    "plt.show()"
   ]
  },
  {
   "cell_type": "code",
   "execution_count": null,
   "metadata": {},
   "outputs": [],
   "source": []
  },
  {
   "cell_type": "markdown",
   "metadata": {
    "id": "523l07L253gq"
   },
   "source": [
    "## 캠페인별로 남자와 여자 모두 비슷한 관심을 보이는 모습을 볼 수 있습니다."
   ]
  },
  {
   "cell_type": "markdown",
   "metadata": {
    "id": "XkYEYUsmBIW4"
   },
   "source": [
    "# 관심(Interest)로 분석해보기"
   ]
  },
  {
   "cell_type": "raw",
   "metadata": {
    "id": "PmOVDMLjc876",
    "outputId": "43d0fa37-28dd-4b34-c1f9-22ed4411c3a8"
   },
   "source": [
    "# 관심사별 광고 노출 횟수 그려보기\n",
    "fig_dims = (15,6)\n",
    "fig, ax = plt.subplots(figsize = fig_dims)\n",
    "sns.countplot(x ='interest', data = df) \n",
    "plt.show() "
   ]
  },
  {
   "cell_type": "code",
   "execution_count": null,
   "metadata": {},
   "outputs": [],
   "source": []
  },
  {
   "cell_type": "raw",
   "metadata": {},
   "source": [
    "fig_dims = (15,6)\n",
    "fig, ax = plt.subplots(figsize = fig_dims)\n",
    "sns.boxplot(x=df['interest'], y=df['Approved_Conversion']);\n",
    "plt.title(\"interest vs conversion\")\n",
    "plt.show()"
   ]
  },
  {
   "cell_type": "code",
   "execution_count": null,
   "metadata": {},
   "outputs": [],
   "source": []
  },
  {
   "cell_type": "raw",
   "metadata": {},
   "source": [
    "df.query('interest > 100')['Approved_Conversion'].mean()"
   ]
  },
  {
   "cell_type": "code",
   "execution_count": null,
   "metadata": {},
   "outputs": [],
   "source": []
  },
  {
   "cell_type": "raw",
   "metadata": {},
   "source": [
    "df.query('interest < 100')['Approved_Conversion'].mean()"
   ]
  },
  {
   "cell_type": "code",
   "execution_count": null,
   "metadata": {},
   "outputs": [],
   "source": []
  },
  {
   "cell_type": "markdown",
   "metadata": {
    "id": "_M37cqOaJI5p"
   },
   "source": [
    "## interst > 100 의 광고 노출횟수는 적지만 평균적인 Approved_Conversion은 더높은 모습을 볼 수 있습니다."
   ]
  },
  {
   "cell_type": "markdown",
   "metadata": {
    "id": "hck7z4ddBU_b"
   },
   "source": [
    "# 광고비 지출(Spent) 분석해보기"
   ]
  },
  {
   "cell_type": "raw",
   "metadata": {
    "id": "wXFAyDcokueU",
    "outputId": "a442a747-de8d-49a8-8b36-38a765c20949"
   },
   "source": [
    "sns.histplot(data=df, x='Spent', alpha=0.8);"
   ]
  },
  {
   "cell_type": "code",
   "execution_count": null,
   "metadata": {},
   "outputs": [],
   "source": []
  },
  {
   "cell_type": "raw",
   "metadata": {},
   "source": [
    "sns.regplot(data=df, x=\"Spent\", y=\"Approved_Conversion\");"
   ]
  },
  {
   "cell_type": "code",
   "execution_count": null,
   "metadata": {},
   "outputs": [],
   "source": []
  },
  {
   "cell_type": "markdown",
   "metadata": {
    "id": "lhwuvfYVKzT3"
   },
   "source": [
    "## 광고비 증가와 Approved_Convesrion 증가와 큰 연관관계가 없다는 사실을 알 수 있습니다."
   ]
  },
  {
   "cell_type": "raw",
   "metadata": {
    "id": "xORBmDYA38le",
    "outputId": "1380cc69-38f1-4923-c2cb-022e507199f0"
   },
   "source": [
    "g = sns.FacetGrid(df, col=\"gender\")\n",
    "g.map(sns.regplot, \"Spent\", \"Approved_Conversion\")\n",
    "g.add_legend();"
   ]
  },
  {
   "cell_type": "code",
   "execution_count": null,
   "metadata": {},
   "outputs": [],
   "source": []
  },
  {
   "cell_type": "raw",
   "metadata": {
    "id": "3P6eZIES4G4L",
    "outputId": "4f8561ae-b6a0-489d-9183-55cf6ff503c0",
    "scrolled": true
   },
   "source": [
    "g = sns.FacetGrid(df, col=\"age\")\n",
    "g.map(sns.regplot, \"Spent\", \"Approved_Conversion\")\n",
    "g.add_legend();"
   ]
  },
  {
   "cell_type": "code",
   "execution_count": null,
   "metadata": {},
   "outputs": [],
   "source": []
  },
  {
   "cell_type": "markdown",
   "metadata": {
    "id": "hLjfmz5J14Z1"
   },
   "source": [
    "## 노출(Impressions) 분석해보기"
   ]
  },
  {
   "cell_type": "raw",
   "metadata": {
    "id": "u2kyIj9t149A",
    "outputId": "0caeebb8-9171-4940-ca81-6fc3452354a0",
    "scrolled": true
   },
   "source": [
    "sns.histplot(data=df, x='Impressions', alpha=0.8);"
   ]
  },
  {
   "cell_type": "code",
   "execution_count": null,
   "metadata": {},
   "outputs": [],
   "source": []
  },
  {
   "cell_type": "raw",
   "metadata": {
    "id": "LBlfOJ1S2lU2",
    "outputId": "6af9c535-71e6-48e4-dd1d-f55a9b6431c9"
   },
   "source": [
    "sns.regplot(data=df, x=\"Impressions\", y=\"Approved_Conversion\");"
   ]
  },
  {
   "cell_type": "code",
   "execution_count": null,
   "metadata": {},
   "outputs": [],
   "source": []
  },
  {
   "cell_type": "markdown",
   "metadata": {
    "id": "QjHpeMJ821P_"
   },
   "source": [
    "## 노출(Impression)이 특정 값을 넘으면 Approved_conversion이 증가하는 모습을 볼 수 있습니다."
   ]
  },
  {
   "cell_type": "raw",
   "metadata": {
    "id": "Jwq8C1qXywGq",
    "outputId": "0b05c767-5921-49b5-837b-da9690a43869"
   },
   "source": [
    "g = sns.FacetGrid(df, col=\"age\")\n",
    "g.map(sns.regplot, \"Clicks\", \"Approved_Conversion\")\n",
    "g.add_legend();"
   ]
  },
  {
   "cell_type": "code",
   "execution_count": null,
   "metadata": {},
   "outputs": [],
   "source": []
  },
  {
   "cell_type": "markdown",
   "metadata": {
    "id": "0wrs6M4v0vPc"
   },
   "source": [
    "## 30-34세의 사람들이 클릭후 실제 구매를 하는 비율이 더높음을 볼 수 있습니다."
   ]
  },
  {
   "cell_type": "markdown",
   "metadata": {
    "id": "fxt_6Rqax7lh"
   },
   "source": [
    "# 제품 문의 후에 누가 실제로 구매를 하는지를 살펴봅시다."
   ]
  },
  {
   "cell_type": "raw",
   "metadata": {
    "id": "pzDmlmgmMchY",
    "outputId": "135dce30-2143-4c84-ef1e-395829754e88"
   },
   "source": [
    "g = sns.FacetGrid(df, col=\"age\")\n",
    "g.map(sns.regplot, \"Total_Conversion\", \"Approved_Conversion\")\n",
    "g.add_legend()"
   ]
  },
  {
   "cell_type": "code",
   "execution_count": null,
   "metadata": {},
   "outputs": [],
   "source": []
  },
  {
   "cell_type": "markdown",
   "metadata": {
    "id": "G2bLwKxBNARZ"
   },
   "source": [
    "## 30-34세 사람들이 문의후 실제로 구매한 비율이 높음을 알 수 있습니다."
   ]
  },
  {
   "cell_type": "markdown",
   "metadata": {
    "id": "db36k3hZ-uk6"
   },
   "source": [
    "# campaignC 더욱 깊게 살펴보기 (가장 많은 실제 구매를 이끌어낸 캠페인)"
   ]
  },
  {
   "cell_type": "raw",
   "metadata": {
    "id": "ArXd6RVcxNY4"
   },
   "source": [
    "campaign_c = df[df['xyz_campaign_id']=='campaignC'] # df.query('xyz_campaign_id == \"campaignC\"')\n",
    "campaign_c.head()"
   ]
  },
  {
   "cell_type": "code",
   "execution_count": null,
   "metadata": {},
   "outputs": [],
   "source": []
  },
  {
   "cell_type": "markdown",
   "metadata": {
    "id": "dTYzn8EQ_GyP"
   },
   "source": [
    "## fb_campaign_id와 campaign_c별로 Approved_Conversion을 살펴봅시다."
   ]
  },
  {
   "cell_type": "raw",
   "metadata": {},
   "source": [
    "campaign_c[\"fb_campaign_id\"].unique()"
   ]
  },
  {
   "cell_type": "code",
   "execution_count": null,
   "metadata": {},
   "outputs": [],
   "source": []
  },
  {
   "cell_type": "raw",
   "metadata": {
    "id": "qs97xoyU8y4p",
    "outputId": "c63cf6ec-fd37-405a-aefe-443b490819b1"
   },
   "source": [
    "sns.scatterplot(data=campaign_c, x=\"fb_campaign_id\", y=\"Approved_Conversion\")"
   ]
  },
  {
   "cell_type": "code",
   "execution_count": null,
   "metadata": {},
   "outputs": [],
   "source": []
  },
  {
   "cell_type": "raw",
   "metadata": {},
   "source": [
    "campaign_c.query('fb_campaign_id > 143000 and fb_campaign_id < 147000')['Approved_Conversion'].mean()"
   ]
  },
  {
   "cell_type": "code",
   "execution_count": null,
   "metadata": {},
   "outputs": [],
   "source": []
  },
  {
   "cell_type": "raw",
   "metadata": {},
   "source": [
    "campaign_c.query('fb_campaign_id > 143000 and fb_campaign_id < 147000')['Approved_Conversion'].max()"
   ]
  },
  {
   "cell_type": "code",
   "execution_count": null,
   "metadata": {},
   "outputs": [],
   "source": []
  },
  {
   "cell_type": "raw",
   "metadata": {},
   "source": [
    "campaign_c.query('fb_campaign_id > 170000 and fb_campaign_id < 180000')['Approved_Conversion'].mean()"
   ]
  },
  {
   "cell_type": "code",
   "execution_count": null,
   "metadata": {},
   "outputs": [],
   "source": []
  },
  {
   "cell_type": "raw",
   "metadata": {},
   "source": [
    "campaign_c.query('fb_campaign_id > 170000 and fb_campaign_id < 180000')['Approved_Conversion'].max()"
   ]
  },
  {
   "cell_type": "code",
   "execution_count": null,
   "metadata": {},
   "outputs": [],
   "source": []
  },
  {
   "cell_type": "code",
   "execution_count": null,
   "metadata": {},
   "outputs": [],
   "source": []
  },
  {
   "cell_type": "markdown",
   "metadata": {
    "id": "0W22R9-S_YpO"
   },
   "source": [
    "## campaignC와 180000 근처의 fb_campaign_id 결합이 145000 근처의 fb_campaign_id 결합보다 더욱 많은 구매를 이끌어내는 모습을 볼 수 있습니다. "
   ]
  },
  {
   "cell_type": "markdown",
   "metadata": {
    "id": "Z2k-HMoIDaNU"
   },
   "source": [
    "# 요약정리"
   ]
  },
  {
   "cell_type": "markdown",
   "metadata": {
    "id": "gm6LNqviDxEa"
   },
   "source": [
    "**CampaignC:**\n",
    "\n",
    "1. CampaignC가 가장 많은 노출 횟수를 가지고 있습니다.\n",
    "2. CampaignC가 가장 많은 Approved_conversion 횟수를 가지고 있습니다.\n",
    "\n",
    "**age_group:**\n",
    "\n",
    "3. CampaignC와 CampaignB는 30~34세가 가장 많은 관심을 보였습니다. 반면에 CampaignA는 40-44세가 가장 많은 관심을 보였습니다.\n",
    "\n",
    "**gender:**\n",
    "\n",
    "4. 성별에 따른 캠페인에 대한 관심 차이는 크지 않았습니다.\n",
    "\n",
    "**interest:**\n",
    "\n",
    "5. 100이상의 interest를 가진 그룹에서 실제 구매가 많이 이루어졌습니다.\n",
    "\n",
    "**money spent:**\n",
    "\n",
    "6. 비용 사용이 늘어날수록 실제 구매가 많이 이루어졌습니다.\n",
    "7. 일정 노출 횟수이상에서 Approved_Conversion이 갑자기 증가하였습니다.\n",
    "\n",
    "#### 유익한 결론\n",
    "\n",
    "8. CampaignC에서 180000 근처의 fb_campaign_ids를 가진 페이스북 광고는 145000 근처의 fb_campaign_ids를 가진 페이스북 광고보다 더욱 높은Approved_Conversion를 보여줍니다."
   ]
  },
  {
   "cell_type": "markdown",
   "metadata": {
    "id": "nR3qWiBrCJJ5"
   },
   "source": [
    "# 연습문제 1 - 비즈니스 의사결정에 도움을 줄 수 있을만한 다음 질문들에 답을 작성해봅시다.\n",
    "\n",
    "1. 가장 많은 전환율을 이끌어낼 수 있는 캠페인 전략은 무엇인가요?\n",
    "2. 구매를 이끌어 내기 위한 최적의 인구분포(나이, 성별)은 어떻게 되나요?\n",
    "3. campaignA, campaignB의 성과도 위에서 해본 campaignC처럼 쪼개서 분석해봅시다."
   ]
  },
  {
   "cell_type": "code",
   "execution_count": null,
   "metadata": {},
   "outputs": [],
   "source": []
  },
  {
   "cell_type": "code",
   "execution_count": null,
   "metadata": {},
   "outputs": [],
   "source": []
  },
  {
   "cell_type": "code",
   "execution_count": null,
   "metadata": {},
   "outputs": [],
   "source": []
  },
  {
   "cell_type": "code",
   "execution_count": null,
   "metadata": {},
   "outputs": [],
   "source": []
  },
  {
   "cell_type": "markdown",
   "metadata": {},
   "source": [
    "# 실전문제 1 - 내가 마케팅 담당자라고 가정하고, 도출한 결론이 잘 드러날수 있도록 다양한 시각화를 통해 리포트를 만들어봅시다."
   ]
  },
  {
   "cell_type": "code",
   "execution_count": null,
   "metadata": {},
   "outputs": [],
   "source": []
  },
  {
   "cell_type": "code",
   "execution_count": null,
   "metadata": {},
   "outputs": [],
   "source": []
  },
  {
   "cell_type": "code",
   "execution_count": null,
   "metadata": {},
   "outputs": [],
   "source": []
  },
  {
   "cell_type": "code",
   "execution_count": null,
   "metadata": {},
   "outputs": [],
   "source": []
  }
 ],
 "metadata": {
  "kernelspec": {
   "display_name": "Python 3",
   "language": "python",
   "name": "python3"
  },
  "language_info": {
   "codemirror_mode": {
    "name": "ipython",
    "version": 3
   },
   "file_extension": ".py",
   "mimetype": "text/x-python",
   "name": "python",
   "nbconvert_exporter": "python",
   "pygments_lexer": "ipython3",
   "version": "3.7.9"
  }
 },
 "nbformat": 4,
 "nbformat_minor": 4
}
