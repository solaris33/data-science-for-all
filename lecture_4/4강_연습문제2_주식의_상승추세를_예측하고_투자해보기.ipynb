{
 "cells": [
  {
   "cell_type": "markdown",
   "metadata": {},
   "source": [
    "## 라이브러리 임포트 "
   ]
  },
  {
   "cell_type": "code",
   "execution_count": 1,
   "metadata": {},
   "outputs": [],
   "source": [
    "import pandas as pd\n",
    "import matplotlib.pyplot as plt\n",
    "import seaborn as sns\n",
    "sns.set()\n",
    "\n",
    "plt.rcParams['font.family'] = 'Malgun Gothic'  # (Windows 용) 한글 출력을 위한 글꼴 설정\n",
    "#plt.rcParams['font.family'] = 'Apple Gothic'  # (MAC, 리눅스 용)\n",
    "plt.rcParams['axes.unicode_minus'] = False    # 문자 - (마이너스) 정상 출력을 위한 코드"
   ]
  },
  {
   "cell_type": "code",
   "execution_count": 2,
   "metadata": {},
   "outputs": [],
   "source": [
    "# 선형회귀 Linear Regression 알고리즘을 위한 임포트\n",
    "import numpy as np\n",
    "from sklearn.linear_model import LinearRegression\n",
    "from sklearn.model_selection import train_test_split\n",
    "from sklearn.metrics import mean_squared_error, mean_absolute_error"
   ]
  },
  {
   "cell_type": "markdown",
   "metadata": {},
   "source": [
    " "
   ]
  },
  {
   "cell_type": "markdown",
   "metadata": {},
   "source": [
    "#### 주식 데이터 로드 및 병합 (concat 사용)"
   ]
  },
  {
   "cell_type": "code",
   "execution_count": 15,
   "metadata": {},
   "outputs": [],
   "source": [
    "itemname = pd.read_csv(\"stockinfo.itemname.csv\", index_col=0, encoding='cp949')\n",
    "sector = pd.read_csv(\"stockinfo.sector.csv\", index_col=0, encoding='cp949')\n",
    "stock_info = pd.concat([itemname, sector], axis=1)\n",
    "\n",
    "adj_close = pd.read_csv(\"stock.adj_close.csv\", index_col=0, encoding='cp949')"
   ]
  },
  {
   "cell_type": "markdown",
   "metadata": {},
   "source": [
    "데이터 확인하기"
   ]
  },
  {
   "cell_type": "raw",
   "metadata": {},
   "source": [
    "stock_info.head()"
   ]
  },
  {
   "cell_type": "code",
   "execution_count": null,
   "metadata": {},
   "outputs": [],
   "source": []
  },
  {
   "cell_type": "raw",
   "metadata": {},
   "source": [
    "adj_close.head()"
   ]
  },
  {
   "cell_type": "code",
   "execution_count": null,
   "metadata": {},
   "outputs": [],
   "source": []
  },
  {
   "cell_type": "markdown",
   "metadata": {},
   "source": [
    "## 연습문제2. 주식의 상승 추세를 예측하고, 이를 이용하여 투자해보기"
   ]
  },
  {
   "cell_type": "raw",
   "metadata": {},
   "source": [
    "# 시뮬레이션을 위한 날짜 변수와 날짜 인덱스 변수 만들기\n",
    "date_list = adj_close.columns\n",
    "date_i = np.arange(len(date_list))"
   ]
  },
  {
   "cell_type": "code",
   "execution_count": null,
   "metadata": {},
   "outputs": [],
   "source": []
  },
  {
   "cell_type": "raw",
   "metadata": {},
   "source": [
    "date_list"
   ]
  },
  {
   "cell_type": "code",
   "execution_count": null,
   "metadata": {},
   "outputs": [],
   "source": []
  },
  {
   "cell_type": "markdown",
   "metadata": {},
   "source": [
    "##### 최근 120일의 데이터를 활용, 80일은 Train 데이터로 활용하고, 40일은 Test 기간으로 지정"
   ]
  },
  {
   "cell_type": "raw",
   "metadata": {},
   "source": [
    "# 선형회귀의 Traning 기간\n",
    "date_list[-120:-40]"
   ]
  },
  {
   "cell_type": "code",
   "execution_count": null,
   "metadata": {},
   "outputs": [],
   "source": []
  },
  {
   "cell_type": "raw",
   "metadata": {},
   "source": [
    "date_i[-120], date_i[-40]"
   ]
  },
  {
   "cell_type": "code",
   "execution_count": null,
   "metadata": {},
   "outputs": [],
   "source": []
  },
  {
   "cell_type": "markdown",
   "metadata": {},
   "source": [
    " "
   ]
  },
  {
   "cell_type": "raw",
   "metadata": {},
   "source": [
    "# 회귀 결과롤 보고 투자하는 기간\n",
    "date_list[-40:]"
   ]
  },
  {
   "cell_type": "code",
   "execution_count": null,
   "metadata": {},
   "outputs": [],
   "source": []
  },
  {
   "cell_type": "raw",
   "metadata": {},
   "source": [
    "date_i[-40], date_i[-1]"
   ]
  },
  {
   "cell_type": "code",
   "execution_count": null,
   "metadata": {},
   "outputs": [],
   "source": []
  },
  {
   "cell_type": "markdown",
   "metadata": {},
   "source": [
    "##### 종목을 선택하여, 학습 기간과 테스트 기간의 주가 그리기"
   ]
  },
  {
   "cell_type": "raw",
   "metadata": {},
   "source": [
    "# 코드와 종목 이름을 선택합니다\n",
    "\n",
    "code = \"A000270\"\n",
    "codename = stock_info.loc[code, 'itemname']\n",
    "code, codename"
   ]
  },
  {
   "cell_type": "code",
   "execution_count": null,
   "metadata": {},
   "outputs": [],
   "source": [
    "code = \"\"\n",
    "codename = stock_info.loc[code, 'itemname']\n",
    "code, codename"
   ]
  },
  {
   "cell_type": "markdown",
   "metadata": {},
   "source": [
    " "
   ]
  },
  {
   "cell_type": "raw",
   "metadata": {},
   "source": [
    "plt.figure(figsize=(13,5));\n",
    "sns.lineplot(x=date_list[-120:-40], y=adj_close.loc[code].iloc[-120:-40], label='학습 기간');\n",
    "sns.lineplot(x=date_list[-40:], y=adj_close.loc[code].iloc[-40:], label='테스트 기간');\n",
    "\n",
    "plt.title(f\"{code} {codename}\");\n",
    "plt.xticks(ticks=date_list[-120::12], label=date_list[-120::12]);"
   ]
  },
  {
   "cell_type": "code",
   "execution_count": null,
   "metadata": {},
   "outputs": [],
   "source": [
    "plt.figure(figsize=(13,5));\n",
    "sns.lineplot(x=  , y=   , label='학습 기간');\n",
    "sns.lineplot(x=  , y=   , label='테스트 기간');\n",
    "\n",
    "plt.title(f\"{code} {codename}\");\n",
    "plt.xticks(ticks=   , label=   );"
   ]
  },
  {
   "cell_type": "markdown",
   "metadata": {},
   "source": [
    " "
   ]
  },
  {
   "cell_type": "markdown",
   "metadata": {},
   "source": [
    "##### 선형회귀를 위한 데이터 준비"
   ]
  },
  {
   "cell_type": "raw",
   "metadata": {},
   "source": [
    "X = date_i[-120:]     # 전체 기간의 인덱스 리스트\n",
    "X_train = date_i[-120:-40]  # 학습 기간의 대한 날짜 리스트\n",
    "\n",
    "Y = adj_close.loc[code].iloc[-120:]    # 전체 기간의 주가\n",
    "Y_train = adj_close.loc[code].iloc[-120:-40]    # 학습 기간의 주가"
   ]
  },
  {
   "cell_type": "code",
   "execution_count": 332,
   "metadata": {},
   "outputs": [],
   "source": [
    "X = \n",
    "X_train = \n",
    "\n",
    "Y = \n",
    "Y_train = "
   ]
  },
  {
   "cell_type": "raw",
   "metadata": {},
   "source": [
    "# 선형회귀 모델의 생성과 학습\n",
    "lr_model = LinearRegression()\n",
    "lr_model.fit(X_train.reshape(-1,1), Y_train)"
   ]
  },
  {
   "cell_type": "code",
   "execution_count": null,
   "metadata": {},
   "outputs": [],
   "source": [
    "# 선형회귀 모델의 생성과 학습\n",
    "lr_model = \n"
   ]
  },
  {
   "cell_type": "markdown",
   "metadata": {},
   "source": [
    " "
   ]
  },
  {
   "cell_type": "raw",
   "metadata": {},
   "source": [
    "# 학습기간에 대한 예측 (predict)\n",
    "y_train_pred = lr_model.predict(X_train.reshape(-1,1))\n",
    "y_train_pred"
   ]
  },
  {
   "cell_type": "code",
   "execution_count": null,
   "metadata": {},
   "outputs": [],
   "source": [
    "\n"
   ]
  },
  {
   "cell_type": "markdown",
   "metadata": {},
   "source": [
    " "
   ]
  },
  {
   "cell_type": "code",
   "execution_count": null,
   "metadata": {},
   "outputs": [],
   "source": [
    "# 예측 결과의 손실에러 계산\n",
    "err_mse = mean_squared_error(Y_train, y_train_pred)\n",
    "err_rmse = np.sqrt(err_mse)\n",
    "err_mae = mean_absolute_error(Y_train, y_train_pred)\n",
    "\n",
    "print(f\"선형회귀 Error:  MSE {err_mse:.3f},  RMSE {err_rmse:.3f},  MAE {err_mae:.3f}\")"
   ]
  },
  {
   "cell_type": "code",
   "execution_count": null,
   "metadata": {},
   "outputs": [],
   "source": [
    "lr_model.intercept_, lr_model.coef_   # 선형회귀의 상수와 기울기"
   ]
  },
  {
   "cell_type": "markdown",
   "metadata": {},
   "source": [
    " "
   ]
  },
  {
   "cell_type": "markdown",
   "metadata": {},
   "source": [
    "##### 선형회귀선과 주가 그래프 그리기"
   ]
  },
  {
   "cell_type": "raw",
   "metadata": {},
   "source": [
    "plt.figure(figsize=(13,5))\n",
    "sns.lineplot(x=date_list[-120:-40], y=adj_close.loc[code].iloc[-120:-40], label='학습 기간');\n",
    "sns.lineplot(x=date_list[-120:-40], y=y_train_pred, label='Linear Regression');\n",
    "sns.lineplot(x=date_list[-40:], y=adj_close.loc[code].iloc[-40:], label='테스트 기간');\n",
    "\n",
    "plt.title(f\"{code} {codename}\")\n",
    "plt.xticks(ticks=date_list[-120::12], label=date_list[-120::12]);"
   ]
  },
  {
   "cell_type": "code",
   "execution_count": null,
   "metadata": {},
   "outputs": [],
   "source": [
    "plt.figure(figsize=(13,5))\n",
    "sns.lineplot(x=   , y=   , label='학습 기간');\n",
    "sns.lineplot(x=   , y=   , label='Linear Regression');\n",
    "sns.lineplot(x=   , y=   , label='테스트 기간');\n",
    "\n",
    "plt.title(f\"{code} {codename}\")\n",
    "plt.xticks(ticks=date_list[-120::12], label=date_list[-120::12]);"
   ]
  },
  {
   "cell_type": "markdown",
   "metadata": {},
   "source": [
    " "
   ]
  },
  {
   "cell_type": "markdown",
   "metadata": {},
   "source": [
    "##### 선형회귀를 이용하여 주가 예측하기"
   ]
  },
  {
   "cell_type": "raw",
   "metadata": {},
   "source": [
    "y_pred = lr_model.predict(X.reshape(-1,1))"
   ]
  },
  {
   "cell_type": "code",
   "execution_count": null,
   "metadata": {},
   "outputs": [],
   "source": []
  },
  {
   "cell_type": "markdown",
   "metadata": {},
   "source": [
    " "
   ]
  },
  {
   "cell_type": "raw",
   "metadata": {},
   "source": [
    "예측_주가 = y_pred[-1]\n",
    "예측_주가"
   ]
  },
  {
   "cell_type": "code",
   "execution_count": null,
   "metadata": {},
   "outputs": [],
   "source": []
  },
  {
   "cell_type": "markdown",
   "metadata": {},
   "source": [
    " "
   ]
  },
  {
   "cell_type": "raw",
   "metadata": {},
   "source": [
    "매수시점_실제주가 = Y[-40]\n",
    "매도시점_실제주가 = Y[-1]\n",
    "매수시점_실제주가, 매도시점_실제주가"
   ]
  },
  {
   "cell_type": "code",
   "execution_count": null,
   "metadata": {},
   "outputs": [],
   "source": [
    "매수시점_실제주가 =\n",
    "매도시점_실제주가 =\n"
   ]
  },
  {
   "cell_type": "markdown",
   "metadata": {},
   "source": [
    " "
   ]
  },
  {
   "cell_type": "raw",
   "metadata": {},
   "source": [
    "예측_수익률 = (예측_주가 / 매수시점_실제주가) - 1\n",
    "실제_수익률 = (매도시점_실제주가 / 매수시점_실제주가) -1"
   ]
  },
  {
   "cell_type": "code",
   "execution_count": null,
   "metadata": {},
   "outputs": [],
   "source": [
    "예측_수익률 = \n",
    "실제_수익률 = "
   ]
  },
  {
   "cell_type": "markdown",
   "metadata": {},
   "source": [
    " "
   ]
  },
  {
   "cell_type": "code",
   "execution_count": null,
   "metadata": {},
   "outputs": [],
   "source": [
    "print(f\"종목 '{code} {codename}' 선형회귀 주가예측 투자 시뮬레이션\")\n",
    "print(f\"학습기간: {date_list[-120]} ~ {date_list[-41]}\")\n",
    "print(f\"투자기간: {date_list[-40]} ~ {date_list[-1]}\")\n",
    "print()\n",
    "print(f\"Linear Regression 예측 수익률: {예측_수익률:.3%},  실제 매매시 수익률: {실제_수익률:.3%}\")"
   ]
  },
  {
   "cell_type": "markdown",
   "metadata": {},
   "source": [
    " "
   ]
  },
  {
   "cell_type": "markdown",
   "metadata": {},
   "source": [
    " "
   ]
  },
  {
   "cell_type": "markdown",
   "metadata": {},
   "source": [
    "#### <연습문제 x-x> 위 그래프의 Linear Regression 선형 회귀 곡선을 테스트 기간에도 쭉 이어서 그려보세요."
   ]
  },
  {
   "cell_type": "code",
   "execution_count": null,
   "metadata": {},
   "outputs": [],
   "source": []
  },
  {
   "cell_type": "markdown",
   "metadata": {},
   "source": [
    " "
   ]
  },
  {
   "cell_type": "markdown",
   "metadata": {},
   "source": [
    "#### <연습문제 x-x> A041520 이라이콤,  A042670 두산인프라코어,  A237690 에스티팜, 세 종목에 대해 예측 수익률과 실매매 수익률을 구해보세요"
   ]
  },
  {
   "cell_type": "code",
   "execution_count": null,
   "metadata": {},
   "outputs": [],
   "source": []
  },
  {
   "cell_type": "markdown",
   "metadata": {},
   "source": [
    " "
   ]
  },
  {
   "cell_type": "markdown",
   "metadata": {},
   "source": [
    " "
   ]
  },
  {
   "cell_type": "markdown",
   "metadata": {},
   "source": [
    "#### <DIY 프로젝트: 데이터 분석과 선형회귀를 이용한 투자전략 만들기>\n",
    "1. 모든 종목에 대한 선형회귀 분석을 수행하고, [기울기(주가변화율), 예측수익률, 실제수익률, 매수일 주가, ..] 등 유의미한 정보를 저장하세요\n",
    "2. 각 종목들에 대한  예측수익률 ~ 실제수익률의 차이를 살펴보세요. **어떤 종목들이 실제 수익률이 좋았는지 살펴보세요.**\n",
    "3. **실제 수익률이 좋았던 종목들의 조건이 무엇인지 찾아보세요. 가설을 세우고 가설을 검증해보세요.**\n",
    "    * 가설 예1) 선형회귀의 Error가 작고, 기울기가 너무 높지 않은 종목 (일일 0.5% 이내)가 수익률이 좋을 것이다.\n",
    "    * 가설 예2) 매수 당일, 선형회귀 직선보다 아래에 있는 종목들이 추후 수익률이 좋을 것이다.\n",
    "    * 가설 예3) 선형회귀의 기울기가 높고 Error가 큰 종목은 변동성이 크다. 이러한 종목을 저가에 사면 수익이 날 것이다."
   ]
  },
  {
   "cell_type": "code",
   "execution_count": null,
   "metadata": {},
   "outputs": [],
   "source": []
  },
  {
   "cell_type": "code",
   "execution_count": null,
   "metadata": {},
   "outputs": [],
   "source": []
  },
  {
   "cell_type": "code",
   "execution_count": null,
   "metadata": {},
   "outputs": [],
   "source": []
  },
  {
   "cell_type": "code",
   "execution_count": null,
   "metadata": {},
   "outputs": [],
   "source": []
  },
  {
   "cell_type": "code",
   "execution_count": null,
   "metadata": {},
   "outputs": [],
   "source": []
  },
  {
   "cell_type": "markdown",
   "metadata": {},
   "source": [
    " "
   ]
  },
  {
   "cell_type": "markdown",
   "metadata": {},
   "source": [
    " "
   ]
  }
 ],
 "metadata": {
  "kernelspec": {
   "display_name": "ENV(conda_py37)",
   "language": "python",
   "name": "conda_py37"
  },
  "language_info": {
   "codemirror_mode": {
    "name": "ipython",
    "version": 3
   },
   "file_extension": ".py",
   "mimetype": "text/x-python",
   "name": "python",
   "nbconvert_exporter": "python",
   "pygments_lexer": "ipython3",
   "version": "3.7.6"
  },
  "toc": {
   "base_numbering": 1,
   "nav_menu": {},
   "number_sections": false,
   "sideBar": true,
   "skip_h1_title": false,
   "title_cell": "Table of Contents",
   "title_sidebar": "Contents",
   "toc_cell": false,
   "toc_position": {},
   "toc_section_display": true,
   "toc_window_display": false
  },
  "varInspector": {
   "cols": {
    "lenName": 16,
    "lenType": 16,
    "lenVar": 40
   },
   "kernels_config": {
    "python": {
     "delete_cmd_postfix": "",
     "delete_cmd_prefix": "del ",
     "library": "var_list.py",
     "varRefreshCmd": "print(var_dic_list())"
    },
    "r": {
     "delete_cmd_postfix": ") ",
     "delete_cmd_prefix": "rm(",
     "library": "var_list.r",
     "varRefreshCmd": "cat(var_dic_list()) "
    }
   },
   "types_to_exclude": [
    "module",
    "function",
    "builtin_function_or_method",
    "instance",
    "_Feature"
   ],
   "window_display": false
  }
 },
 "nbformat": 4,
 "nbformat_minor": 2
}
