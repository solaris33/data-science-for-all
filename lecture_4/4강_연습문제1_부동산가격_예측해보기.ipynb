{
 "cells": [
  {
   "cell_type": "markdown",
   "metadata": {},
   "source": [
    "# 4강 - 연습문제1 - 보스턴 부동산 가격을 Linear Regression으로 예측해보기"
   ]
  },
  {
   "cell_type": "markdown",
   "metadata": {},
   "source": [
    "# Linear Regression 모델\n",
    "![image.png](https://upload.wikimedia.org/wikipedia/commons/b/be/Normdist_regression.png)"
   ]
  },
  {
   "cell_type": "markdown",
   "metadata": {},
   "source": [
    "# 예제1 - 키(Height)로 몸무게(Weight) 예측해보기"
   ]
  },
  {
   "cell_type": "raw",
   "metadata": {},
   "source": [
    "import pandas as pd\n",
    "import matplotlib.pyplot as plt\n",
    "import seaborn as sns\n",
    "from sklearn.datasets import load_boston\n",
    "import numpy as np\n",
    "from sklearn.linear_model import LinearRegression\n",
    "from sklearn.model_selection import train_test_split\n",
    "from sklearn.metrics import mean_squared_error\n",
    "\n",
    "\n",
    "plt.rcParams['font.family'] = 'NanumGothic' # 윈도우(Windwos) 사용자\n",
    "#plt.rcParams['font.family'] = 'AppleGothic' # 맥(Mac) 사용자\n",
    "plt.rcParams['axes.unicode_minus'] = False    # 문자 - (마이너스) 정상 출력을 위한 코드"
   ]
  },
  {
   "cell_type": "code",
   "execution_count": null,
   "metadata": {},
   "outputs": [],
   "source": []
  },
  {
   "cell_type": "raw",
   "metadata": {},
   "source": [
    "weight_height_df = pd.read_csv('weight-height.csv')"
   ]
  },
  {
   "cell_type": "code",
   "execution_count": null,
   "metadata": {},
   "outputs": [],
   "source": []
  },
  {
   "cell_type": "raw",
   "metadata": {},
   "source": [
    "weight_height_df.head()"
   ]
  },
  {
   "cell_type": "code",
   "execution_count": null,
   "metadata": {},
   "outputs": [],
   "source": []
  },
  {
   "cell_type": "raw",
   "metadata": {},
   "source": [
    "weight_height_df.shape"
   ]
  },
  {
   "cell_type": "code",
   "execution_count": null,
   "metadata": {},
   "outputs": [],
   "source": []
  },
  {
   "cell_type": "raw",
   "metadata": {},
   "source": [
    "weight_height_df.info()"
   ]
  },
  {
   "cell_type": "code",
   "execution_count": null,
   "metadata": {},
   "outputs": [],
   "source": []
  },
  {
   "cell_type": "raw",
   "metadata": {},
   "source": [
    "weight_height_df.describe()"
   ]
  },
  {
   "cell_type": "code",
   "execution_count": null,
   "metadata": {},
   "outputs": [],
   "source": []
  },
  {
   "cell_type": "raw",
   "metadata": {},
   "source": [
    "X = weight_height_df[\"Height\"]\n",
    "y = weight_height_df[\"Weight\"]\n",
    "sns.scatterplot(x = X, y = y)\n",
    "plt.show()"
   ]
  },
  {
   "cell_type": "code",
   "execution_count": null,
   "metadata": {},
   "outputs": [],
   "source": []
  },
  {
   "cell_type": "raw",
   "metadata": {},
   "source": [
    "# 80%는 트레이닝 데이터, 20%는 테스트 데이터로 나눕니다.\n",
    "X_train, X_test, y_train, y_test = train_test_split(X, y, test_size=0.2)"
   ]
  },
  {
   "cell_type": "code",
   "execution_count": null,
   "metadata": {},
   "outputs": [],
   "source": []
  },
  {
   "cell_type": "raw",
   "metadata": {},
   "source": [
    "# 선형회귀(Linear Regression) 모델 선언하기\n",
    "lr = LinearRegression()\n",
    "\n",
    "# 선형회귀(Linear Regression) 모델 학습하기\n",
    "# reshape 부분을 유의!\n",
    "lr.fit(X_train.values.reshape(-1,1), y_train)\n",
    "\n",
    "# 테스트 데이터에 대한 예측을 수행합니다.\n",
    "y_pred = lr.predict(X_test.values.reshape(-1,1))"
   ]
  },
  {
   "cell_type": "code",
   "execution_count": null,
   "metadata": {},
   "outputs": [],
   "source": []
  },
  {
   "cell_type": "raw",
   "metadata": {},
   "source": [
    "# MSE(Mean Squared Error)를 측정합니다.\n",
    "MSE = mean_squared_error(y_test, y_pred)\n",
    "\n",
    "# RMSE(Root Mean Squared Error)를 측정합니다.\n",
    "RMSE = np.sqrt(MSE)\n",
    "\n",
    "print('MSE :', MSE)\n",
    "print('RMSE :', RMSE)"
   ]
  },
  {
   "cell_type": "code",
   "execution_count": null,
   "metadata": {},
   "outputs": [],
   "source": []
  },
  {
   "cell_type": "raw",
   "metadata": {},
   "source": [
    "plt.plot(X_test, y_test, 'o')\n",
    "plt.plot(X_test, lr.predict(X_test.values.reshape(-1,1)))\n",
    "plt.title('키와 몸무게의 상관관계')\n",
    "plt.show()"
   ]
  },
  {
   "cell_type": "code",
   "execution_count": null,
   "metadata": {},
   "outputs": [],
   "source": []
  },
  {
   "cell_type": "markdown",
   "metadata": {},
   "source": [
    "# 예제2 - 보스턴 부동산 가격을 Linear Regression으로 예측해보자"
   ]
  },
  {
   "cell_type": "markdown",
   "metadata": {},
   "source": [
    "## 보스턴 부동산 데이터의 특징들(Features)\n",
    "1. CRIM: 도시별 범죄발생률\n",
    "2. ZN: 25,000평을 넘는 토지의 비율\n",
    "3. INDUS: 도시별 비상업 지구의 비유\n",
    "4. CHAS: 찰스 강의 더미 변수(1 = 강의 경계, 0 = 나머지)\n",
    "5. NOX: 일산화질소 농도\n",
    "6. RM: 주거할 수 있는 평균 방의개수\n",
    "7. AGE: 1940년 이전에 지어진 주택의 비율\n",
    "8. DIS: 5개의 고용지원센터까지의 가중치가 고려된 거리\n",
    "9. RAD: 고속도로의 접근 용이성에 대한 지표\n",
    "10. TAX: 10,000달러당 재산세 비율\n",
    "11. PTRATIO: 도시별 교사와 학생의 비율 \n",
    "12. B: 도시의 흑인 거주 비유\n",
    "13. LSTAT: 저소득층의 비율\n",
    "14. MEDV: 본인 소유 주택 가격의 중앙값"
   ]
  },
  {
   "cell_type": "raw",
   "metadata": {},
   "source": [
    "# 보스턴 부동산 가격 데이터 불러오기\n",
    "boston_house_data = load_boston()\n",
    "\n",
    "boston_house_df = pd.DataFrame(boston_house_data.data, columns = boston_house_data.feature_names)\n",
    "boston_house_df['PRICE'] = boston_house_data.target\n",
    "boston_house_df.head()"
   ]
  },
  {
   "cell_type": "code",
   "execution_count": null,
   "metadata": {},
   "outputs": [],
   "source": []
  },
  {
   "cell_type": "raw",
   "metadata": {},
   "source": [
    "boston_house_df.shape"
   ]
  },
  {
   "cell_type": "code",
   "execution_count": null,
   "metadata": {},
   "outputs": [],
   "source": []
  },
  {
   "cell_type": "raw",
   "metadata": {},
   "source": [
    "boston_house_df.info()"
   ]
  },
  {
   "cell_type": "code",
   "execution_count": null,
   "metadata": {},
   "outputs": [],
   "source": []
  },
  {
   "cell_type": "raw",
   "metadata": {},
   "source": [
    "boston_house_df.describe()"
   ]
  },
  {
   "cell_type": "code",
   "execution_count": null,
   "metadata": {},
   "outputs": [],
   "source": []
  },
  {
   "cell_type": "raw",
   "metadata": {},
   "source": [
    "X = boston_house_df.iloc[:,:-1]\n",
    "y = boston_house_df['PRICE']\n",
    "\n",
    "# 80%는 트레이닝 데이터, 20%는 테스트 데이터로 나눕니다.\n",
    "X_train, X_test, y_train, y_test = train_test_split(X, y, test_size=0.2)"
   ]
  },
  {
   "cell_type": "code",
   "execution_count": null,
   "metadata": {},
   "outputs": [],
   "source": []
  },
  {
   "cell_type": "raw",
   "metadata": {},
   "source": [
    "# 선형회귀(Linear Regression) 모델 선언하기\n",
    "lr = LinearRegression()\n",
    "\n",
    "# 선형회귀(Linear Regression) 모델 학습하기\n",
    "lr.fit(X_train, y_train)"
   ]
  },
  {
   "cell_type": "code",
   "execution_count": null,
   "metadata": {},
   "outputs": [],
   "source": []
  },
  {
   "cell_type": "raw",
   "metadata": {},
   "source": [
    "# 테스트 데이터에 대한 예측을 수행합니다.\n",
    "y_pred = lr.predict(X_test)\n",
    "\n",
    "# MSE(Mean Squared Error)를 측정합니다.\n",
    "MSE = mean_squared_error(y_test, y_pred)\n",
    "\n",
    "# RMSE(Root Mean Squared Error)를 측정합니다.\n",
    "RMSE = np.sqrt(MSE)\n",
    "\n",
    "print('MSE :', MSE)\n",
    "print('RMSE :', RMSE)"
   ]
  },
  {
   "cell_type": "code",
   "execution_count": null,
   "metadata": {},
   "outputs": [],
   "source": []
  },
  {
   "cell_type": "markdown",
   "metadata": {},
   "source": [
    "# StandardScaler를 이용해서 Feature를 정규화(Noramlize) 해보기"
   ]
  },
  {
   "cell_type": "raw",
   "metadata": {},
   "source": [
    "from sklearn import preprocessing\n",
    "\n",
    "X = boston_house_df.iloc[:,:-1]\n",
    "# StandardScaler를 이용해서 데이터 정규화(Noramlize)하기\n",
    "X = preprocessing.StandardScaler().fit(X).transform(X)\n",
    "y = boston_house_df['PRICE']\n",
    "\n",
    "# 80%는 트레이닝 데이터, 20%는 테스트 데이터로 나눕니다.\n",
    "X_train, X_test, y_train, y_test = train_test_split(X, y, test_size=0.2)"
   ]
  },
  {
   "cell_type": "code",
   "execution_count": null,
   "metadata": {},
   "outputs": [],
   "source": []
  },
  {
   "cell_type": "raw",
   "metadata": {},
   "source": [
    "# 선형회귀(Linear Regression) 모델 선언하기\n",
    "lr = LinearRegression()\n",
    "\n",
    "# 선형회귀(Linear Regression) 모델 학습하기\n",
    "lr.fit(X_train, y_train)\n",
    "\n",
    "# 테스트 데이터에 대한 예측을 수행합니다.\n",
    "y_pred = lr.predict(X_test)"
   ]
  },
  {
   "cell_type": "code",
   "execution_count": null,
   "metadata": {},
   "outputs": [],
   "source": []
  },
  {
   "cell_type": "raw",
   "metadata": {},
   "source": [
    "# MSE(Mean Squared Error)를 측정합니다.\n",
    "MSE = mean_squared_error(y_test, y_pred)\n",
    "\n",
    "# RMSE(Root Mean Squared Error)를 측정합니다.\n",
    "RMSE = np.sqrt(MSE)\n",
    "\n",
    "print('MSE :', MSE)\n",
    "print('RMSE :', RMSE)"
   ]
  },
  {
   "cell_type": "code",
   "execution_count": null,
   "metadata": {},
   "outputs": [],
   "source": []
  },
  {
   "cell_type": "markdown",
   "metadata": {},
   "source": [
    "# 연습문제 1 - scikit-learn으로 Linear Regression 직접 트레이닝 해보기"
   ]
  },
  {
   "cell_type": "markdown",
   "metadata": {},
   "source": [
    "1. **from sklearn.linear_model import LinearRegression**으로 LinearRegression 모델을 import합니다.\n",
    "2. **lr = LinearRegression()**으로 Linear Regression 모델을 선언합니다.\n",
    "3. **X_train = [[1,1], [2,2], [3,3], [4,4]]**으로 X_train 데이터를 만듭니다.\n",
    "4. **y_train' = [2,4,6,8]**으로 y_train 데이터를 만듭니다.\n",
    "5. **lr.fit(X_train, ytrain)**로 linear regression 모델을 트레이닝 시킵니다.\n",
    "6. **X_test = [[5,5]]**라는 X_test 데이터를 만듭니다.\n",
    "7. **print(lr.predict(X_test))**로 Linear Regression 모델의 예측값을 출력합니다.\n",
    "8. 출력된 Linear Regression 모델의 경향성을 파악해봅니다."
   ]
  },
  {
   "cell_type": "code",
   "execution_count": 16,
   "metadata": {},
   "outputs": [],
   "source": [
    "# 직접 Linear Regression 모델을 만들어보세요."
   ]
  },
  {
   "cell_type": "markdown",
   "metadata": {},
   "source": [
    "# 보스턴 부동산 가격 데이터에 대해 EDA 수행해보기"
   ]
  },
  {
   "cell_type": "markdown",
   "metadata": {},
   "source": [
    "## 상관 분석(Correlation Analysis) 진행해보기"
   ]
  },
  {
   "cell_type": "raw",
   "metadata": {},
   "source": [
    "corr = boston_house_df.corr()\n",
    "plt.figure(figsize=(10, 10));\n",
    "sns.heatmap(corr,\n",
    "            vmax=0.8,\n",
    "            linewidths=0.01,\n",
    "            square=True,\n",
    "            annot=True,\n",
    "            cmap='YlGnBu');\n",
    "plt.title('특징들간의 Correlation');"
   ]
  },
  {
   "cell_type": "code",
   "execution_count": null,
   "metadata": {},
   "outputs": [],
   "source": []
  },
  {
   "cell_type": "markdown",
   "metadata": {},
   "source": [
    "## sns.regplot으로 scatter와 regression 라인 같이 출력해보기"
   ]
  },
  {
   "cell_type": "raw",
   "metadata": {},
   "source": [
    "sns.regplot(data=boston_house_df, x='RM', y='PRICE')\n",
    "plt.show()"
   ]
  },
  {
   "cell_type": "code",
   "execution_count": null,
   "metadata": {},
   "outputs": [],
   "source": []
  },
  {
   "cell_type": "markdown",
   "metadata": {},
   "source": [
    "# 연습문제 2 - 상관 분석 결과를 해석해보기 (최소 5개 이상의 결론 도출해보기)\n",
    "1. 가격(PRICE)과 가장 높은 양의 상관관계를 가진 특징은 RM(방의 개수)이다.(=방의 개수가 많을수록 그에 비례해서 집값이 높아진다.)\n",
    "2. 저소득층의 비율(LSTAT)과 방의 개수(RM)는 음의 상관관계를 가지고 있다.(=저소득층의 비율이 높을수록 방의 개수가 적은 집이 많다.)\n",
    "3. 아래에 직접 상관 분석 결과를 해석해보세요."
   ]
  },
  {
   "cell_type": "code",
   "execution_count": 19,
   "metadata": {},
   "outputs": [],
   "source": [
    "# 직접 상관분석의 결과를 토대로 결론을 도출해보세요."
   ]
  },
  {
   "cell_type": "markdown",
   "metadata": {},
   "source": [
    "# 연습문제 3 - 연습문제2에서 분석한 결론을 토대로 해당 결론을 직접 시각화해보세요.\n",
    "1. sns.scatterplot을 이용해서 두 Feature간의 상관관계를 출력해보세요.\n",
    "2. sns.histplot을 이용해서 각 Feature들의 분포를 살펴보세요.\n",
    "3. sns.regplot으로 13개의 column들과 PRICE간의 연관관계를 출력해보세요. "
   ]
  },
  {
   "cell_type": "raw",
   "metadata": {},
   "source": [
    "# category_cols : 13개\n",
    "category_cols = ['CRIM', 'ZN', 'INDUS', 'CHAS', 'NOX', \n",
    "                 'RM', 'AGE', 'DIS', 'RAD', 'TAX',\n",
    "                 'PTRATIO', 'B', 'LSTAT'] "
   ]
  },
  {
   "cell_type": "code",
   "execution_count": null,
   "metadata": {},
   "outputs": [],
   "source": []
  },
  {
   "cell_type": "raw",
   "metadata": {},
   "source": [
    "list(boston_house_df)"
   ]
  },
  {
   "cell_type": "code",
   "execution_count": null,
   "metadata": {},
   "outputs": [],
   "source": []
  },
  {
   "cell_type": "code",
   "execution_count": null,
   "metadata": {},
   "outputs": [],
   "source": []
  },
  {
   "cell_type": "code",
   "execution_count": null,
   "metadata": {},
   "outputs": [],
   "source": []
  },
  {
   "cell_type": "code",
   "execution_count": null,
   "metadata": {},
   "outputs": [],
   "source": []
  },
  {
   "cell_type": "code",
   "execution_count": null,
   "metadata": {},
   "outputs": [],
   "source": []
  },
  {
   "cell_type": "markdown",
   "metadata": {},
   "source": [
    "# 당뇨병 진행정도(progression) 값 예측을 위한 Linear Regression 예측모델 만들어보기"
   ]
  },
  {
   "cell_type": "raw",
   "metadata": {},
   "source": [
    "from sklearn import datasets\n",
    "\n",
    "# diabetes 데이터셋을 불러옵니다.\n",
    "# https://scikit-learn.org/stable/datasets/index.html#diabetes-dataset\n",
    "diabetes = datasets.load_diabetes()\n",
    "\n",
    "diabetes_df = pd.DataFrame(diabetes.data, columns=diabetes.feature_names)\n",
    "diabetes_df['progression'] = diabetes.target\n",
    "diabetes_df.head()"
   ]
  },
  {
   "cell_type": "code",
   "execution_count": null,
   "metadata": {},
   "outputs": [],
   "source": []
  },
  {
   "cell_type": "markdown",
   "metadata": {},
   "source": [
    "# 연습문제 4 - 당뇨병 데이터셋에 대한 Linear Regression 모델을 만들고 성능(MSE, RMSE)을 측정해보세요."
   ]
  },
  {
   "cell_type": "code",
   "execution_count": null,
   "metadata": {},
   "outputs": [],
   "source": []
  },
  {
   "cell_type": "code",
   "execution_count": null,
   "metadata": {},
   "outputs": [],
   "source": []
  },
  {
   "cell_type": "code",
   "execution_count": null,
   "metadata": {},
   "outputs": [],
   "source": []
  },
  {
   "cell_type": "code",
   "execution_count": null,
   "metadata": {},
   "outputs": [],
   "source": []
  },
  {
   "cell_type": "markdown",
   "metadata": {},
   "source": [
    "# 연습문제 5 - 당뇨병 데이터셋에 대한 Correlation Analysis를 수행해보세요."
   ]
  },
  {
   "cell_type": "code",
   "execution_count": null,
   "metadata": {},
   "outputs": [],
   "source": []
  },
  {
   "cell_type": "markdown",
   "metadata": {},
   "source": [
    "# 연습문제 6 - 당뇨병(diabetes) 데이터셋의 각 Feature들과 progression간의 연관관계를 sns.regplot으로 그려보세요."
   ]
  },
  {
   "cell_type": "raw",
   "metadata": {},
   "source": [
    "list(diabetes_df)"
   ]
  },
  {
   "cell_type": "code",
   "execution_count": null,
   "metadata": {},
   "outputs": [],
   "source": []
  },
  {
   "cell_type": "code",
   "execution_count": null,
   "metadata": {},
   "outputs": [],
   "source": []
  },
  {
   "cell_type": "code",
   "execution_count": null,
   "metadata": {},
   "outputs": [],
   "source": []
  },
  {
   "cell_type": "code",
   "execution_count": null,
   "metadata": {},
   "outputs": [],
   "source": []
  }
 ],
 "metadata": {
  "kernelspec": {
   "display_name": "Python 3",
   "language": "python",
   "name": "python3"
  },
  "language_info": {
   "codemirror_mode": {
    "name": "ipython",
    "version": 3
   },
   "file_extension": ".py",
   "mimetype": "text/x-python",
   "name": "python",
   "nbconvert_exporter": "python",
   "pygments_lexer": "ipython3",
   "version": "3.7.9"
  }
 },
 "nbformat": 4,
 "nbformat_minor": 4
}
