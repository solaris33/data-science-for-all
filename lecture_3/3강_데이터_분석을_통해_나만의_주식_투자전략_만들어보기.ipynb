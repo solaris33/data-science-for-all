{
 "cells": [
  {
   "cell_type": "markdown",
   "metadata": {},
   "source": [
    "### 작성자: AISchool (http://aischool.ai/), Daniel Park"
   ]
  },
  {
   "cell_type": "markdown",
   "metadata": {},
   "source": [
    "# 3장. 데이터 분석을 통해 나만의 주식 투자 전략 만들어보기.\n",
    "#### 데이터 분석을 통해 미래의 테슬라를 찾자\n",
    "- 재무제표, 주가 등 주식 데이터 파일(엑셀 csv)을 읽어서 코딩으로 그래프를 그려보자  \n",
    "- 주식 데이터 분석1. 전체 주식시장에서 산업 별로 차지하는 비중 계산해보기  \n",
    "- 주식 데이터 분석2. 최근 수익률이 좋았던 종목은?  수익률이 좋았던 산업은?  \n",
    "- 주식 데이터 분석3. 데이터를 가공해서, 종목을 선별해보자 (적자 종목 제거, 하락추세 종목 제거, 종목별 PER 산출, 종목별 거래대금 분석 등) \n",
    "- 시뮬레이션1. 분석을 통해 선별한 종목에 투자하면, 수익률이 어떨까?\n",
    "- 시뮬레이션2. 차트 이동평균선 분석을 통해 투자하면, 수익률이 어떨까?  \n",
    "\n",
    "**(학습 내용: if-else 문, for-loop, 리스트, 딕셔너리, groupby, sort, agg, filtering, query)**"
   ]
  },
  {
   "cell_type": "markdown",
   "metadata": {},
   "source": [
    "## 라이브러리 임포트"
   ]
  },
  {
   "cell_type": "code",
   "execution_count": null,
   "metadata": {},
   "outputs": [],
   "source": [
    "import pandas as pd\n",
    "import matplotlib.pyplot as plt\n",
    "import seaborn as sns\n",
    "sns.set()\n",
    "\n",
    "plt.rcParams['font.family'] = 'Malgun Gothic'  # (Windows 용) 한글 출력을 위한 글꼴 설정\n",
    "#plt.rcParams['font.family'] = 'Apple Gothic'  # (MAC, 리눅스 용)\n",
    "\n",
    "plt.rcParams['axes.unicode_minus'] = False    # 문자 - (마이너스) 정상 출력을 위한 코드"
   ]
  },
  {
   "cell_type": "markdown",
   "metadata": {},
   "source": [
    "## 데이터 불러오기"
   ]
  },
  {
   "cell_type": "code",
   "execution_count": null,
   "metadata": {
    "scrolled": true
   },
   "outputs": [],
   "source": [
    "d = {}\n",
    "\n",
    "# For문 이용하여 읽기- 주가, 시가총액, 매출액, 영업익, 순이익, 부채, 자본\n",
    "for data_name in ['adj_close', 'mc', 'sales', 'op', 'ni', 'liab', 'eq']:\n",
    "    d[data_name] = pd.read_csv(f\"stock.{data_name}.csv\", index_col=0, encoding='cp949', parse_dates=True)"
   ]
  },
  {
   "cell_type": "code",
   "execution_count": null,
   "metadata": {},
   "outputs": [],
   "source": [
    "itemname = pd.read_csv(\"stockinfo.itemname.csv\", index_col=0, encoding='cp949')\n",
    "sector = pd.read_csv(\"stockinfo.sector.csv\", index_col=0, encoding='cp949')\n",
    "\n",
    "stock_info = pd.concat([itemname, sector], axis=1)"
   ]
  },
  {
   "cell_type": "markdown",
   "metadata": {},
   "source": [
    "## 3.1. 실험에 필요한 Python 문법 배우기"
   ]
  },
  {
   "cell_type": "markdown",
   "metadata": {},
   "source": [
    "#### print문에 변수를 함께 출력하는 방법"
   ]
  },
  {
   "cell_type": "raw",
   "metadata": {},
   "source": [
    "print(\"Hello\")"
   ]
  },
  {
   "cell_type": "code",
   "execution_count": null,
   "metadata": {},
   "outputs": [],
   "source": [
    "comp_nps"
   ]
  },
  {
   "cell_type": "markdown",
   "metadata": {},
   "source": [
    " "
   ]
  },
  {
   "cell_type": "raw",
   "metadata": {},
   "source": [
    "a = 30\n",
    "print(\"숫자 a는 \" + str(a) + \" 입니다.\")"
   ]
  },
  {
   "cell_type": "code",
   "execution_count": null,
   "metadata": {},
   "outputs": [],
   "source": [
    "a = 30\n",
    "print()"
   ]
  },
  {
   "cell_type": "markdown",
   "metadata": {},
   "source": [
    " "
   ]
  },
  {
   "cell_type": "raw",
   "metadata": {},
   "source": [
    "b = 150\n",
    "print(f\"f-string 문법을 이용한  숫자 b 출력 = {b}\")"
   ]
  },
  {
   "cell_type": "code",
   "execution_count": null,
   "metadata": {},
   "outputs": [],
   "source": [
    "b = 150\n",
    "print()"
   ]
  },
  {
   "cell_type": "markdown",
   "metadata": {},
   "source": [
    " "
   ]
  },
  {
   "cell_type": "raw",
   "metadata": {},
   "source": [
    "pie = 3.14159265358979323846264338327950288\n",
    "print(f\"원주율 = {pie}\")"
   ]
  },
  {
   "cell_type": "code",
   "execution_count": null,
   "metadata": {},
   "outputs": [],
   "source": [
    "pie = 3.14159265358979323846264338327950288\n",
    "print()"
   ]
  },
  {
   "cell_type": "markdown",
   "metadata": {},
   "source": [
    " "
   ]
  },
  {
   "cell_type": "raw",
   "metadata": {},
   "source": [
    "pie = 3.14159265358979323846264338327950288\n",
    "print(f\"원주율 (반올림) = {pie:.2f}\")"
   ]
  },
  {
   "cell_type": "code",
   "execution_count": null,
   "metadata": {},
   "outputs": [],
   "source": [
    "pie = 3.14159265358979323846264338327950288\n",
    "print()"
   ]
  },
  {
   "cell_type": "markdown",
   "metadata": {},
   "source": [
    " "
   ]
  },
  {
   "cell_type": "raw",
   "metadata": {},
   "source": [
    "print(f\"{pie*2 + 10}\")"
   ]
  },
  {
   "cell_type": "code",
   "execution_count": null,
   "metadata": {},
   "outputs": [],
   "source": [
    "print()"
   ]
  },
  {
   "cell_type": "markdown",
   "metadata": {},
   "source": [
    " "
   ]
  },
  {
   "cell_type": "markdown",
   "metadata": {},
   "source": [
    "#### 이름을 붙여 변수를 저장하는 사전, dict"
   ]
  },
  {
   "cell_type": "raw",
   "metadata": {},
   "source": [
    "my_dict = {}\n",
    "my_dict"
   ]
  },
  {
   "cell_type": "code",
   "execution_count": null,
   "metadata": {},
   "outputs": [],
   "source": []
  },
  {
   "cell_type": "markdown",
   "metadata": {},
   "source": [
    " "
   ]
  },
  {
   "cell_type": "raw",
   "metadata": {},
   "source": [
    "my_dict = {\n",
    "    '이름': '홍길동',\n",
    "    '강의': '원티드',\n",
    "    '키': 185,\n",
    "    'pie': 3.141592,\n",
    "    '리스트': [1,2,3,4,5]\n",
    "}\n",
    "my_dict"
   ]
  },
  {
   "cell_type": "code",
   "execution_count": null,
   "metadata": {},
   "outputs": [],
   "source": []
  },
  {
   "cell_type": "markdown",
   "metadata": {},
   "source": [
    " "
   ]
  },
  {
   "cell_type": "raw",
   "metadata": {},
   "source": [
    "my_dict['이름']"
   ]
  },
  {
   "cell_type": "code",
   "execution_count": null,
   "metadata": {},
   "outputs": [],
   "source": [
    "my_dict[]"
   ]
  },
  {
   "cell_type": "markdown",
   "metadata": {},
   "source": [
    " "
   ]
  },
  {
   "cell_type": "raw",
   "metadata": {},
   "source": [
    "my_dict['pie']"
   ]
  },
  {
   "cell_type": "code",
   "execution_count": null,
   "metadata": {},
   "outputs": [],
   "source": [
    "my_dict[]"
   ]
  },
  {
   "cell_type": "markdown",
   "metadata": {},
   "source": [
    " "
   ]
  },
  {
   "cell_type": "raw",
   "metadata": {},
   "source": [
    "my_dict['리스트']"
   ]
  },
  {
   "cell_type": "code",
   "execution_count": null,
   "metadata": {},
   "outputs": [],
   "source": [
    "my_dict[]"
   ]
  },
  {
   "cell_type": "markdown",
   "metadata": {},
   "source": [
    " "
   ]
  },
  {
   "cell_type": "raw",
   "metadata": {},
   "source": [
    "my_dict['리스트'][3]"
   ]
  },
  {
   "cell_type": "code",
   "execution_count": null,
   "metadata": {},
   "outputs": [],
   "source": [
    "my_dict[]"
   ]
  },
  {
   "cell_type": "markdown",
   "metadata": {},
   "source": [
    " "
   ]
  },
  {
   "cell_type": "raw",
   "metadata": {},
   "source": [
    "my_dict.keys()"
   ]
  },
  {
   "cell_type": "code",
   "execution_count": null,
   "metadata": {},
   "outputs": [],
   "source": [
    "my_dict"
   ]
  },
  {
   "cell_type": "markdown",
   "metadata": {},
   "source": [
    " "
   ]
  },
  {
   "cell_type": "raw",
   "metadata": {},
   "source": [
    "my_dict"
   ]
  },
  {
   "cell_type": "code",
   "execution_count": null,
   "metadata": {},
   "outputs": [],
   "source": []
  },
  {
   "cell_type": "markdown",
   "metadata": {},
   "source": [
    " "
   ]
  },
  {
   "cell_type": "raw",
   "metadata": {},
   "source": [
    "# 기존의 key에 대한 value 수정하기\n",
    "my_dict['이름'] = '임꺽정'"
   ]
  },
  {
   "cell_type": "code",
   "execution_count": null,
   "metadata": {},
   "outputs": [],
   "source": [
    "my_dict[] ="
   ]
  },
  {
   "cell_type": "markdown",
   "metadata": {},
   "source": [
    " "
   ]
  },
  {
   "cell_type": "raw",
   "metadata": {},
   "source": [
    "# 새로운 key와 value 추가하기\n",
    "my_dict['직업'] = '의적'"
   ]
  },
  {
   "cell_type": "code",
   "execution_count": null,
   "metadata": {},
   "outputs": [],
   "source": [
    "my_dict[] ="
   ]
  },
  {
   "cell_type": "markdown",
   "metadata": {},
   "source": [
    " "
   ]
  },
  {
   "cell_type": "raw",
   "metadata": {},
   "source": [
    "my_dict"
   ]
  },
  {
   "cell_type": "code",
   "execution_count": null,
   "metadata": {},
   "outputs": [],
   "source": []
  },
  {
   "cell_type": "markdown",
   "metadata": {},
   "source": [
    " "
   ]
  },
  {
   "cell_type": "raw",
   "metadata": {},
   "source": [
    "my_dict.keys()"
   ]
  },
  {
   "cell_type": "code",
   "execution_count": null,
   "metadata": {},
   "outputs": [],
   "source": []
  },
  {
   "cell_type": "markdown",
   "metadata": {},
   "source": [
    " "
   ]
  },
  {
   "cell_type": "raw",
   "metadata": {},
   "source": [
    "my_dict.values()"
   ]
  },
  {
   "cell_type": "code",
   "execution_count": null,
   "metadata": {},
   "outputs": [],
   "source": []
  },
  {
   "cell_type": "markdown",
   "metadata": {},
   "source": [
    "##### <연습문제 3-1>\n",
    "my_dict의 pie 값을 44로 변경해보세요"
   ]
  },
  {
   "cell_type": "code",
   "execution_count": null,
   "metadata": {},
   "outputs": [],
   "source": []
  },
  {
   "cell_type": "markdown",
   "metadata": {},
   "source": [
    " "
   ]
  },
  {
   "cell_type": "markdown",
   "metadata": {},
   "source": [
    "#### if ~ elif ~ else로 원하는 조건 테스트 하기"
   ]
  },
  {
   "cell_type": "raw",
   "metadata": {},
   "source": [
    "numbers = [1, 2, 3, 4, 5, 7, 9, 12, 14, 18]\n",
    "\n",
    "for n in numbers:\n",
    "    if n < 5:\n",
    "        print(f\"{n}은 5보다 작습니다.\")"
   ]
  },
  {
   "cell_type": "code",
   "execution_count": null,
   "metadata": {},
   "outputs": [],
   "source": [
    "numbers = [1, 2, 3, 4, 5, 7, 9, 12, 14, 18]\n",
    "\n",
    "for n in numbers:\n",
    "    "
   ]
  },
  {
   "cell_type": "markdown",
   "metadata": {},
   "source": [
    " "
   ]
  },
  {
   "cell_type": "raw",
   "metadata": {},
   "source": [
    "numbers = [1, 2, 3, 4, 5, 7, 9, 12, 14, 18]\n",
    "\n",
    "for n in numbers:\n",
    "    if n < 5:\n",
    "        print(f\"{n}은 5보다 작습니다.\")\n",
    "    elif n % 2 == 0:\n",
    "        print(f\"{n}은 2로 나누어 떨어집니다.\")\n",
    "    else:\n",
    "        print(f\"{n}은 else문에서 출력됨 (둘 다 아님)\")"
   ]
  },
  {
   "cell_type": "code",
   "execution_count": null,
   "metadata": {},
   "outputs": [],
   "source": [
    "numbers = [1, 2, 3, 4, 5, 7, 9, 12, 14, 18]\n",
    "\n",
    "for n in numbers:\n",
    "    if:\n",
    "        print()"
   ]
  },
  {
   "cell_type": "markdown",
   "metadata": {},
   "source": [
    " "
   ]
  },
  {
   "cell_type": "raw",
   "metadata": {},
   "source": [
    "numbers = [1, 2, 3, 4, 5, 7, 9, 12, 14, 18]\n",
    "\n",
    "for n in numbers:\n",
    "    if n < 5:\n",
    "        print(f\"{n}은 5보다 작습니다.\")\n",
    "    \n",
    "    if n % 2 == 0:\n",
    "        print(f\"{n}은 2로 나누어 떨어집니다.\")\n",
    "    \n",
    "    if n % 3 == 0:\n",
    "        print(f\"{n}은 3으로 나누어 떨어집니다.\")"
   ]
  },
  {
   "cell_type": "code",
   "execution_count": null,
   "metadata": {},
   "outputs": [],
   "source": [
    "numbers = [1, 2, 3, 4, 5, 7, 9, 12, 14, 18]\n",
    "\n",
    "for n in numbers:\n",
    "    if :\n",
    "        print(f\"{n}은 5보다 작습니다.\")\n",
    "        "
   ]
  },
  {
   "cell_type": "markdown",
   "metadata": {},
   "source": [
    " "
   ]
  },
  {
   "cell_type": "raw",
   "metadata": {},
   "source": [
    "numbers = [1, 2, 3, 4, 5, 7, 9, 12, 14, 18]\n",
    "\n",
    "for n in numbers:\n",
    "    if n < 9:\n",
    "        print(f\"{n}은 9보다 작습니다.\")\n",
    "    \n",
    "        if n % 2 == 0:\n",
    "            print(f\"{n}은 2로 나누어 떨어집니다.\")"
   ]
  },
  {
   "cell_type": "code",
   "execution_count": null,
   "metadata": {},
   "outputs": [],
   "source": [
    "numbers = [1, 2, 3, 4, 5, 7, 9, 12, 14, 18]\n",
    "\n",
    "for n in numbers:\n",
    "    "
   ]
  },
  {
   "cell_type": "markdown",
   "metadata": {},
   "source": [
    "##### <연습문제 3-2>\n",
    "number를 반복하며, n이 7로 나누어 떨어지면 '777'을 출력하고, 그 외의 경우 숫자 n을 출력해보세요"
   ]
  },
  {
   "cell_type": "code",
   "execution_count": null,
   "metadata": {},
   "outputs": [],
   "source": []
  },
  {
   "cell_type": "markdown",
   "metadata": {},
   "source": [
    " "
   ]
  },
  {
   "cell_type": "markdown",
   "metadata": {},
   "source": [
    "## 3.3. 고급 pandas 익히기"
   ]
  },
  {
   "cell_type": "code",
   "execution_count": null,
   "metadata": {},
   "outputs": [],
   "source": [
    "# 데이터 준비\n",
    "df_a = stock_info.iloc[:14]\n",
    "df_a"
   ]
  },
  {
   "cell_type": "code",
   "execution_count": null,
   "metadata": {},
   "outputs": [],
   "source": [
    "df_b = d['adj_close'].loc[:,'2020-10-13':].iloc[:14]\n",
    "df_b"
   ]
  },
  {
   "cell_type": "raw",
   "metadata": {},
   "source": [
    "# .rename 함수를 이용, 딕셔너리로 컬럼 명을 바꿀 수 있습니다\n",
    "df_b = df_b.rename(columns={\n",
    "    '2020-10-13':'주가_10_13',\n",
    "    '2020-10-14':'주가_10_14'\n",
    "})\n",
    "df_b"
   ]
  },
  {
   "cell_type": "code",
   "execution_count": null,
   "metadata": {},
   "outputs": [],
   "source": [
    "df_b = df_b.rename(columns= )\n",
    "df_b"
   ]
  },
  {
   "cell_type": "markdown",
   "metadata": {},
   "source": [
    " "
   ]
  },
  {
   "cell_type": "markdown",
   "metadata": {},
   "source": [
    "#### .concat() - 여러 개의 DataFrame 합치기"
   ]
  },
  {
   "cell_type": "raw",
   "metadata": {},
   "source": [
    "pd.concat([df_a, df_b])"
   ]
  },
  {
   "cell_type": "code",
   "execution_count": null,
   "metadata": {},
   "outputs": [],
   "source": []
  },
  {
   "cell_type": "markdown",
   "metadata": {},
   "source": [
    " "
   ]
  },
  {
   "cell_type": "raw",
   "metadata": {},
   "source": [
    "my_concat_df = pd.concat([df_a, df_b], axis=1)\n",
    "my_concat_df"
   ]
  },
  {
   "cell_type": "code",
   "execution_count": null,
   "metadata": {},
   "outputs": [],
   "source": [
    "my_concat_df = "
   ]
  },
  {
   "cell_type": "markdown",
   "metadata": {},
   "source": [
    " "
   ]
  },
  {
   "cell_type": "markdown",
   "metadata": {},
   "source": [
    "#### .groupby() – 그룹으로 묶어서 Aggregation 하기"
   ]
  },
  {
   "cell_type": "raw",
   "metadata": {},
   "source": [
    "my_concat_df"
   ]
  },
  {
   "cell_type": "code",
   "execution_count": null,
   "metadata": {},
   "outputs": [],
   "source": []
  },
  {
   "cell_type": "markdown",
   "metadata": {},
   "source": [
    " "
   ]
  },
  {
   "cell_type": "raw",
   "metadata": {},
   "source": [
    "my_concat_df.groupby('Sector').sum()"
   ]
  },
  {
   "cell_type": "code",
   "execution_count": null,
   "metadata": {},
   "outputs": [],
   "source": []
  },
  {
   "cell_type": "markdown",
   "metadata": {},
   "source": [
    " "
   ]
  },
  {
   "cell_type": "raw",
   "metadata": {},
   "source": [
    "my_concat_df.groupby('Sector').mean()"
   ]
  },
  {
   "cell_type": "code",
   "execution_count": null,
   "metadata": {},
   "outputs": [],
   "source": [
    "my_concat_df"
   ]
  },
  {
   "cell_type": "markdown",
   "metadata": {},
   "source": [
    " "
   ]
  },
  {
   "cell_type": "raw",
   "metadata": {},
   "source": [
    "my_concat_df.groupby('Sector').count()"
   ]
  },
  {
   "cell_type": "code",
   "execution_count": null,
   "metadata": {},
   "outputs": [],
   "source": [
    "my_concat_df.groupby()"
   ]
  },
  {
   "cell_type": "markdown",
   "metadata": {},
   "source": [
    " "
   ]
  },
  {
   "cell_type": "raw",
   "metadata": {},
   "source": [
    "my_concat_df.groupby('Sector').max()"
   ]
  },
  {
   "cell_type": "code",
   "execution_count": null,
   "metadata": {},
   "outputs": [],
   "source": [
    "my_concat_df.groupby('Sector')"
   ]
  },
  {
   "cell_type": "markdown",
   "metadata": {},
   "source": [
    " "
   ]
  },
  {
   "cell_type": "markdown",
   "metadata": {},
   "source": [
    "#### .query() - DataFrame 필터링하기"
   ]
  },
  {
   "cell_type": "raw",
   "metadata": {},
   "source": [
    "my_concat_df"
   ]
  },
  {
   "cell_type": "code",
   "execution_count": null,
   "metadata": {},
   "outputs": [],
   "source": []
  },
  {
   "cell_type": "markdown",
   "metadata": {},
   "source": [
    " "
   ]
  },
  {
   "cell_type": "raw",
   "metadata": {},
   "source": [
    "my_concat_df.query('Sector == \"운송\"')"
   ]
  },
  {
   "cell_type": "code",
   "execution_count": null,
   "metadata": {},
   "outputs": [],
   "source": []
  },
  {
   "cell_type": "markdown",
   "metadata": {},
   "source": [
    " "
   ]
  },
  {
   "cell_type": "raw",
   "metadata": {},
   "source": [
    "my_concat_df.query('Sector == \"제약_및_바이오\"')"
   ]
  },
  {
   "cell_type": "code",
   "execution_count": null,
   "metadata": {},
   "outputs": [],
   "source": [
    "my_concat_df"
   ]
  },
  {
   "cell_type": "markdown",
   "metadata": {},
   "source": [
    " "
   ]
  },
  {
   "cell_type": "raw",
   "metadata": {},
   "source": [
    "my_concat_df.query('주가_10_13 > 20000')"
   ]
  },
  {
   "cell_type": "code",
   "execution_count": null,
   "metadata": {},
   "outputs": [],
   "source": [
    "my_concat_df.query()"
   ]
  },
  {
   "cell_type": "markdown",
   "metadata": {},
   "source": [
    " "
   ]
  },
  {
   "cell_type": "raw",
   "metadata": {},
   "source": [
    "my_concat_df.query('주가_10_13 > 20000  and  Sector == \"제약_및_바이오\"')"
   ]
  },
  {
   "cell_type": "code",
   "execution_count": null,
   "metadata": {},
   "outputs": [],
   "source": [
    "my_concat_df.query()"
   ]
  },
  {
   "cell_type": "markdown",
   "metadata": {},
   "source": [
    " "
   ]
  },
  {
   "cell_type": "markdown",
   "metadata": {},
   "source": [
    "##### <연습문제 3-3>\n",
    "my_concat_df에서 업종이 '음식료 및 담배'인 레코드를 출력해보세요"
   ]
  },
  {
   "cell_type": "code",
   "execution_count": null,
   "metadata": {},
   "outputs": [],
   "source": []
  },
  {
   "cell_type": "markdown",
   "metadata": {},
   "source": [
    " "
   ]
  },
  {
   "cell_type": "markdown",
   "metadata": {},
   "source": [
    "## 3.2. 주식 데이터 및 기업 분석 배우기  \n",
    "### [ 데이터 설명 ]\n",
    "**일별 데이터:**\n",
    "- 데이터 파일: __stock.*{테이블이름}*.csv__\n",
    "- 데이터 기간: 2018-06-01 ~ 2020-10-14, 약 2년 4개월, 비영업일 제외\n",
    "- 종목 수: 2,278 개\n",
    "- 단위 (테이블이름, 설명)\n",
    "    - 원 단위: adj_close 주가\n",
    "    - 백만원 단위 : mc 시가총액, sales 매출액, op 영업이익, ni 순이익, liab 부채, eq 자본, asset_cur 유동자산 \n",
    "        \n",
    "  \n",
    "**색인 데이터:**\n",
    "- __stockinfo.itemname.csv__ : 종목 코드와 종목 명\n",
    "- __stockinfo.sector.csv__ : 종목 코드와 해당하는 섹터"
   ]
  },
  {
   "cell_type": "markdown",
   "metadata": {},
   "source": [
    "#### 일자별 주식 데이터 불러오기 (dict 및 for문 사용)"
   ]
  },
  {
   "cell_type": "code",
   "execution_count": null,
   "metadata": {
    "scrolled": true
   },
   "outputs": [],
   "source": [
    "d = {}\n",
    "\n",
    "# For문 이용하여 읽기- 주가, 시가총액, 매출액, 영업익, 순이익, 부채, 자본\n",
    "for data_name in ['adj_close', 'mc', 'sales', 'op', 'ni', 'liab', 'eq']:\n",
    "    print(f\"read csv {data_name} ...\")\n",
    "    d[data_name] = pd.read_csv(f\"stock.{data_name}.csv\", index_col=0, encoding='cp949', parse_dates=True)\n",
    "    print(f\"done!  {d[data_name].shape}\")"
   ]
  },
  {
   "cell_type": "raw",
   "metadata": {},
   "source": [
    "# 데이터 확인하기\n",
    "d['adj_close']"
   ]
  },
  {
   "cell_type": "code",
   "execution_count": null,
   "metadata": {},
   "outputs": [],
   "source": []
  },
  {
   "cell_type": "markdown",
   "metadata": {},
   "source": [
    " "
   ]
  },
  {
   "cell_type": "markdown",
   "metadata": {},
   "source": [
    "#### 색인 데이터 로드 및 병합 (concat 사용)"
   ]
  },
  {
   "cell_type": "code",
   "execution_count": null,
   "metadata": {},
   "outputs": [],
   "source": [
    "itemname = pd.read_csv(\"stockinfo.itemname.csv\", index_col=0, encoding='cp949')\n",
    "sector = pd.read_csv(\"stockinfo.sector.csv\", index_col=0, encoding='cp949')"
   ]
  },
  {
   "cell_type": "raw",
   "metadata": {},
   "source": [
    "stock_info = pd.concat([itemname, sector], axis=1)"
   ]
  },
  {
   "cell_type": "code",
   "execution_count": null,
   "metadata": {},
   "outputs": [],
   "source": []
  },
  {
   "cell_type": "markdown",
   "metadata": {},
   "source": [
    " "
   ]
  },
  {
   "cell_type": "raw",
   "metadata": {},
   "source": [
    "stock_info"
   ]
  },
  {
   "cell_type": "code",
   "execution_count": null,
   "metadata": {},
   "outputs": [],
   "source": []
  },
  {
   "cell_type": "markdown",
   "metadata": {},
   "source": [
    " "
   ]
  },
  {
   "cell_type": "markdown",
   "metadata": {},
   "source": [
    "## 주식 데이터 분석 및 EDA 수행하기"
   ]
  },
  {
   "cell_type": "markdown",
   "metadata": {},
   "source": [
    "#### 재무제표, 주가 등 주식 데이터 파일 읽어서 코딩으로 그래프를 그려보자"
   ]
  },
  {
   "cell_type": "raw",
   "metadata": {},
   "source": [
    "# 코드와 종목 이름을 선택합니다\n",
    "\n",
    "code = \"A005930\"\n",
    "codename = stock_info.loc[code, 'itemname']\n",
    "code, codename"
   ]
  },
  {
   "cell_type": "code",
   "execution_count": null,
   "metadata": {},
   "outputs": [],
   "source": [
    "code = \"\"\n",
    "codename = stock_info.loc[code, 'itemname']\n",
    "code, codename"
   ]
  },
  {
   "cell_type": "markdown",
   "metadata": {},
   "source": [
    " "
   ]
  },
  {
   "cell_type": "raw",
   "metadata": {},
   "source": [
    "d['adj_close'].loc[code, :].plot(figsize=(12,4), title=f'{code} {codename} 주가');"
   ]
  },
  {
   "cell_type": "code",
   "execution_count": null,
   "metadata": {},
   "outputs": [],
   "source": []
  },
  {
   "cell_type": "markdown",
   "metadata": {},
   "source": [
    " "
   ]
  },
  {
   "cell_type": "raw",
   "metadata": {},
   "source": [
    "d['sales'].loc[code, :].plot(figsize=(12,4), title=f'{code} {codename} 매출액');"
   ]
  },
  {
   "cell_type": "code",
   "execution_count": null,
   "metadata": {},
   "outputs": [],
   "source": [
    "d[].loc[].plot(figsize=(12,4), title= );"
   ]
  },
  {
   "cell_type": "markdown",
   "metadata": {},
   "source": [
    " "
   ]
  },
  {
   "cell_type": "raw",
   "metadata": {},
   "source": [
    "d['eq'].loc[code, :].plot(figsize=(12,4), title=f'{code} {codename} 자본');"
   ]
  },
  {
   "cell_type": "code",
   "execution_count": null,
   "metadata": {},
   "outputs": [],
   "source": [
    "d[].loc[].plot(figsize=(12,4), title=f'{} {} 자본');"
   ]
  },
  {
   "cell_type": "markdown",
   "metadata": {},
   "source": [
    " "
   ]
  },
  {
   "cell_type": "markdown",
   "metadata": {},
   "source": [
    "#### 주가의 이동평균선 그려보기\n",
    "* `.rolling()` 은 직전 n개에 대해 Aggregation 준비를 해주는 함수입니다.\n",
    "* 아래 코드를 보면, 실제 Aggregation은 `.mean()`이 수행한 것을 알 수 있습니다.\n",
    "* `.rolling()` 의 인자로는 axis= , windows= (직전 n개 숫자 지정) 등이 있습니다.\n",
    "* `plot()`을 한번에 여러 개 실행함으로써, 같은 figure에 그림을 그립니다."
   ]
  },
  {
   "cell_type": "raw",
   "metadata": {},
   "source": [
    "d['adj_close'].loc[code, :].plot(figsize=(12,4), label='종가');\n",
    "d['adj_close'].loc[code, :].rolling(20).mean().plot(label='20일 이동평균선');\n",
    "d['adj_close'].loc[code, :].rolling(60).mean().plot(label='60일 이동평균선');\n",
    "\n",
    "plt.title(f\"{code} {codename} 종목 차트\")\n",
    "plt.legend();"
   ]
  },
  {
   "cell_type": "code",
   "execution_count": null,
   "metadata": {},
   "outputs": [],
   "source": [
    "d['adj_close'].loc[code, :].plot(figsize=(12,4), label='종가');\n",
    "d['adj_close'].loc[code, :]\n",
    "d['adj_close'].loc[code, :]\n",
    "\n",
    "plt.title(f\"{code} {codename} 종목 차트\")\n",
    "plt.legend();"
   ]
  },
  {
   "cell_type": "markdown",
   "metadata": {},
   "source": [
    " "
   ]
  },
  {
   "cell_type": "markdown",
   "metadata": {},
   "source": [
    "##### <연습문제 3-4>\n",
    "dataframe의 마지막 60일 동안의, 주가와 주가 5일 이동평균선을 그려보세요"
   ]
  },
  {
   "cell_type": "code",
   "execution_count": null,
   "metadata": {},
   "outputs": [],
   "source": []
  },
  {
   "cell_type": "markdown",
   "metadata": {},
   "source": [
    " "
   ]
  },
  {
   "cell_type": "markdown",
   "metadata": {},
   "source": [
    "#### 주식 데이터 분석1. 전체 주식시장에서 산업 별로 차지하는 비중 계산해보기"
   ]
  },
  {
   "cell_type": "raw",
   "metadata": {},
   "source": [
    "# 분석을 수행할 날짜 지정\n",
    "view_date = '2020-10-14'"
   ]
  },
  {
   "cell_type": "code",
   "execution_count": null,
   "metadata": {},
   "outputs": [],
   "source": [
    "view_date = "
   ]
  },
  {
   "cell_type": "markdown",
   "metadata": {},
   "source": [
    " "
   ]
  },
  {
   "cell_type": "code",
   "execution_count": null,
   "metadata": {},
   "outputs": [],
   "source": [
    "# concat할 데이터 살펴보기 (시가총액)\n",
    "d['mc'].loc[:,view_date]"
   ]
  },
  {
   "cell_type": "code",
   "execution_count": null,
   "metadata": {},
   "outputs": [],
   "source": [
    "# concat할 데이터 살펴보기 (업종)\n",
    "stock_info.loc[:,'Sector']"
   ]
  },
  {
   "cell_type": "markdown",
   "metadata": {},
   "source": [
    " "
   ]
  },
  {
   "cell_type": "raw",
   "metadata": {},
   "source": [
    "# 업종과 날짜에 해당하는 시가총액을 병합, 분석의 목표에 부합하는 df를 생성\n",
    "name_sector_mc_df = pd.concat([stock_info, d['mc'].loc[:,view_date]], axis=1)\n",
    "name_sector_mc_df"
   ]
  },
  {
   "cell_type": "code",
   "execution_count": null,
   "metadata": {},
   "outputs": [],
   "source": [
    "name_sector_mc_df = pd.concat()\n",
    "name_sector_mc_df"
   ]
  },
  {
   "cell_type": "markdown",
   "metadata": {},
   "source": [
    " "
   ]
  },
  {
   "cell_type": "raw",
   "metadata": {},
   "source": [
    "# groupby sum을 통해, 업종 별로 시가총액 합하기\n",
    "sector_mc_df = name_sector_mc_df.groupby('Sector').sum().sort_values(view_date)\n",
    "sector_mc_df"
   ]
  },
  {
   "cell_type": "code",
   "execution_count": null,
   "metadata": {},
   "outputs": [],
   "source": [
    "sector_mc_df = name_sector_mc_df\n",
    "sector_mc_df"
   ]
  },
  {
   "cell_type": "markdown",
   "metadata": {},
   "source": [
    " "
   ]
  },
  {
   "cell_type": "raw",
   "metadata": {},
   "source": [
    "# 업종별로 합산된 시가총액, Pie Chart 그려보기\n",
    "sector_mc_df.plot(kind='pie', y=view_date, figsize=(15,9), legend=False, autopct='%1.1f%%');"
   ]
  },
  {
   "cell_type": "code",
   "execution_count": null,
   "metadata": {},
   "outputs": [],
   "source": [
    "sector_mc_df.plot(kind='', y=view_date, figsize=(15,9), legend=False, autopct='%1.1f%%');"
   ]
  },
  {
   "cell_type": "markdown",
   "metadata": {},
   "source": [
    " "
   ]
  },
  {
   "cell_type": "raw",
   "metadata": {},
   "source": [
    "# .query()를 이용하여 해당 섹터에 어떤 종목이 있는지 구경하기\n",
    "name_sector_mc_df.query('Sector == \"하드웨어\"')"
   ]
  },
  {
   "cell_type": "code",
   "execution_count": null,
   "metadata": {},
   "outputs": [],
   "source": [
    "name_sector_mc_df.query('')"
   ]
  },
  {
   "cell_type": "markdown",
   "metadata": {},
   "source": [
    " "
   ]
  },
  {
   "cell_type": "markdown",
   "metadata": {},
   "source": [
    "#### 주식 데이터 분석2. 최근 수익률이 좋았던 종목은? 수익률이 좋았던 산업은?\n",
    "* `.pct_change()` 함수로 주가의 변동률을 구할 수 있습니다. (단위가 %가 아닌 비율임을 유의)\n",
    "* `.pct_change()` 함수의 인자로는 간격을 지정하는 `periods=`, 연산 축을 지정하는 `axis=` 등이 있습니다."
   ]
  },
  {
   "cell_type": "raw",
   "metadata": {},
   "source": [
    "# 데이터 확인하기\n",
    "d['adj_close'].head()"
   ]
  },
  {
   "cell_type": "code",
   "execution_count": null,
   "metadata": {},
   "outputs": [],
   "source": []
  },
  {
   "cell_type": "raw",
   "metadata": {
    "scrolled": false
   },
   "source": [
    "# 1일간의 주가 변동률\n",
    "d['adj_close'].pct_change(periods=1, axis=1)"
   ]
  },
  {
   "cell_type": "code",
   "execution_count": null,
   "metadata": {},
   "outputs": [],
   "source": [
    "d['adj_close']"
   ]
  },
  {
   "cell_type": "raw",
   "metadata": {
    "scrolled": false
   },
   "source": [
    "# 3일간의 주가 변동률\n",
    "d['adj_close'].pct_change(periods=3, axis=1)"
   ]
  },
  {
   "cell_type": "code",
   "execution_count": null,
   "metadata": {},
   "outputs": [],
   "source": [
    "d['adj_close'].pct_change()"
   ]
  },
  {
   "cell_type": "markdown",
   "metadata": {},
   "source": [
    " "
   ]
  },
  {
   "cell_type": "markdown",
   "metadata": {},
   "source": [
    "##### 여러 투자 기간 (1일, 3일, ... 60일, 120일) 의 수익률을 계산하여, 딕셔너리 d에 할당하기\n",
    "* `.pct_change()`는 비율을 계산하므로, 백분율 % 로 만들기 위해 100을 곱해줍니다."
   ]
  },
  {
   "cell_type": "raw",
   "metadata": {},
   "source": [
    "for hold_days in [1, 3, 5, 10, 20, 60, 120]:\n",
    "    table_name = f'return_{hold_days}d'\n",
    "    d[table_name] = d['adj_close'].pct_change(periods=hold_days, axis=1) * 100\n",
    "    \n",
    "    print(f\"투자기간 {hold_days} 일, 테이블 {table_name} 연산 완료 !\")"
   ]
  },
  {
   "cell_type": "code",
   "execution_count": null,
   "metadata": {},
   "outputs": [],
   "source": [
    "for   in [1, 3, 5, 10, 20, 60, 120]:\n",
    "    table_name = f''\n",
    "    d[table_name] = d['adj_close'].pct_change(periods=  , axis=1) *  \n",
    "    \n",
    "    print(f\"투자기간 {hold_days} 일, 테이블 {table_name} 연산 완료 !\")"
   ]
  },
  {
   "cell_type": "markdown",
   "metadata": {},
   "source": [
    " "
   ]
  },
  {
   "cell_type": "raw",
   "metadata": {},
   "source": [
    "# 딕셔너리d에 잘 들어갔나 확인하기\n",
    "d['return_1d']"
   ]
  },
  {
   "cell_type": "code",
   "execution_count": null,
   "metadata": {},
   "outputs": [],
   "source": []
  },
  {
   "cell_type": "markdown",
   "metadata": {},
   "source": [
    " "
   ]
  },
  {
   "cell_type": "markdown",
   "metadata": {},
   "source": [
    "DataFrame을 입력하면, stock_info를 앞에 붙여주는 함수 `get_df_with_info()` 만들기"
   ]
  },
  {
   "cell_type": "raw",
   "metadata": {},
   "source": [
    "def get_df_with_info(data_df):\n",
    "    return pd.concat([stock_info, data_df], axis=1)"
   ]
  },
  {
   "cell_type": "code",
   "execution_count": null,
   "metadata": {},
   "outputs": [],
   "source": []
  },
  {
   "cell_type": "markdown",
   "metadata": {},
   "source": [
    " "
   ]
  },
  {
   "cell_type": "code",
   "execution_count": null,
   "metadata": {},
   "outputs": [],
   "source": [
    "d['adj_close'].iloc[:,-5:]"
   ]
  },
  {
   "cell_type": "code",
   "execution_count": null,
   "metadata": {},
   "outputs": [],
   "source": [
    "get_df_with_info(d['adj_close'].iloc[:,-5:])"
   ]
  },
  {
   "cell_type": "markdown",
   "metadata": {},
   "source": [
    " "
   ]
  },
  {
   "cell_type": "code",
   "execution_count": null,
   "metadata": {},
   "outputs": [],
   "source": [
    "# 20일 (달력 기준 1달) 투자기간을 기준으로, 수익률 내림차순 정렬하기\n",
    "d['return_20d'].loc[:, view_date].sort_values(ascending=False)"
   ]
  },
  {
   "cell_type": "raw",
   "metadata": {},
   "source": [
    "# 20일 수익률 기준, 내림차순 종목 및 종목명 함께 보기\n",
    "sorted_df = get_df_with_info(d['return_20d'].loc[:, view_date]).sort_values(view_date, ascending=False)\n",
    "sorted_df"
   ]
  },
  {
   "cell_type": "code",
   "execution_count": null,
   "metadata": {},
   "outputs": [],
   "source": [
    "sorted_df =   d['return_20d'].loc[:, view_date]  .sort_values(view_date, ascending=False)\n",
    "sorted_df"
   ]
  },
  {
   "cell_type": "markdown",
   "metadata": {},
   "source": [
    " "
   ]
  },
  {
   "cell_type": "raw",
   "metadata": {},
   "source": [
    "sorted_df.iloc[:20,:]"
   ]
  },
  {
   "cell_type": "code",
   "execution_count": null,
   "metadata": {},
   "outputs": [],
   "source": []
  },
  {
   "cell_type": "markdown",
   "metadata": {},
   "source": [
    " "
   ]
  },
  {
   "cell_type": "code",
   "execution_count": null,
   "metadata": {},
   "outputs": [],
   "source": [
    "# 상승률 1등한 종목 고르기\n",
    "rank1_code = 'A042040'"
   ]
  },
  {
   "cell_type": "code",
   "execution_count": null,
   "metadata": {},
   "outputs": [],
   "source": [
    "# 결과가 맞나 직접 계산해보기 (본전을 포함합니다, 3.4715 = 2.4715 + 1)\n",
    "d['adj_close'].loc[rank1_code].iloc[-1] / d['adj_close'].loc['A042040'].iloc[-21]"
   ]
  },
  {
   "cell_type": "markdown",
   "metadata": {},
   "source": [
    " "
   ]
  },
  {
   "cell_type": "raw",
   "metadata": {},
   "source": [
    "# 상승률 1등 종목, 그래프 그려보기\n",
    "d['adj_close'].loc[rank1_code].iloc[-20:].plot(figsize=(12,5));"
   ]
  },
  {
   "cell_type": "code",
   "execution_count": null,
   "metadata": {},
   "outputs": [],
   "source": [
    "d['adj_close'].loc[  ].iloc[  ].plot(figsize=(12,5));"
   ]
  },
  {
   "cell_type": "markdown",
   "metadata": {},
   "source": [
    " "
   ]
  },
  {
   "cell_type": "raw",
   "metadata": {},
   "source": [
    "# 업종별로 상승률 정렬해보기\n",
    "sector_sorted_df = sorted_df.groupby('Sector').mean().sort_values(view_date, ascending=False)\n",
    "sector_sorted_df"
   ]
  },
  {
   "cell_type": "code",
   "execution_count": null,
   "metadata": {},
   "outputs": [],
   "source": [
    "sector_sorted_df = sorted_df   .sort_values(view_date, ascending=  )\n",
    "sector_sorted_df"
   ]
  },
  {
   "cell_type": "markdown",
   "metadata": {},
   "source": [
    " "
   ]
  },
  {
   "cell_type": "raw",
   "metadata": {},
   "source": [
    "# 업종별 상승률 그래프 그리기\n",
    "sector_sorted_df.plot(figsize=(12,5), kind='bar');"
   ]
  },
  {
   "cell_type": "code",
   "execution_count": null,
   "metadata": {},
   "outputs": [],
   "source": [
    "sector_sorted_df"
   ]
  },
  {
   "cell_type": "markdown",
   "metadata": {},
   "source": [
    " "
   ]
  },
  {
   "cell_type": "markdown",
   "metadata": {},
   "source": [
    "##### 모든 업종 별, 기간 별 수익률 계산하기"
   ]
  },
  {
   "cell_type": "code",
   "execution_count": null,
   "metadata": {},
   "outputs": [],
   "source": [
    "sector_1d_df = get_df_with_info(d['return_1d'].loc[:, view_date] * 100).groupby('Sector').mean()\n",
    "sector_3d_df = get_df_with_info(d['return_3d'].loc[:, view_date] * 100).groupby('Sector').mean()\n",
    "sector_5d_df = get_df_with_info(d['return_5d'].loc[:, view_date] * 100).groupby('Sector').mean()\n",
    "sector_10d_df = get_df_with_info(d['return_10d'].loc[:, view_date] * 100).groupby('Sector').mean()\n",
    "sector_20d_df = get_df_with_info(d['return_20d'].loc[:, view_date] * 100).groupby('Sector').mean()\n",
    "sector_60d_df = get_df_with_info(d['return_60d'].loc[:, view_date] * 100).groupby('Sector').mean()\n",
    "sector_120d_df = get_df_with_info(d['return_120d'].loc[:, view_date] * 100).groupby('Sector').mean()"
   ]
  },
  {
   "cell_type": "code",
   "execution_count": null,
   "metadata": {},
   "outputs": [],
   "source": [
    "# 그냥 concat할 경우, 컬럼 명이 동일한 날짜이기 때문에, 각각 해당하는 이름으로 변경합니다.\n",
    "\n",
    "sector_1d_df.columns = ['1일_수익률']\n",
    "sector_3d_df.columns = ['3일_수익률']\n",
    "sector_5d_df.columns = ['5일_수익률']\n",
    "sector_10d_df.columns = ['2주일_수익률']\n",
    "sector_20d_df.columns = ['1달_수익률']\n",
    "sector_60d_df.columns = ['3달_수익률']\n",
    "sector_120d_df.columns = ['6달_수익률']"
   ]
  },
  {
   "cell_type": "markdown",
   "metadata": {},
   "source": [
    "##### 업종별, 투자 기간별 수익률 그려보기"
   ]
  },
  {
   "cell_type": "raw",
   "metadata": {},
   "source": [
    "pd.concat([sector_1d_df, sector_3d_df],\n",
    "          axis=1).sort_values('3일_수익률', ascending=False).plot(figsize=(13,6), kind='bar');\n",
    "plt.title('업종별_1,3일_수익률');"
   ]
  },
  {
   "cell_type": "code",
   "execution_count": null,
   "metadata": {},
   "outputs": [],
   "source": [
    "pd.concat([   ],\n",
    "          axis=1).sort_values('', ascending=False).plot(figsize=(13,6), kind='bar');\n",
    "\n",
    "plt.title('');"
   ]
  },
  {
   "cell_type": "markdown",
   "metadata": {},
   "source": [
    " "
   ]
  },
  {
   "cell_type": "code",
   "execution_count": null,
   "metadata": {},
   "outputs": [],
   "source": [
    "pd.concat([sector_5d_df, sector_10d_df],\n",
    "          axis=1).sort_values('2주일_수익률', ascending=False).plot(figsize=(13,6), kind='bar');\n",
    "plt.title('업종별_5일,2주일_수익률');"
   ]
  },
  {
   "cell_type": "markdown",
   "metadata": {},
   "source": [
    " "
   ]
  },
  {
   "cell_type": "code",
   "execution_count": null,
   "metadata": {
    "scrolled": false
   },
   "outputs": [],
   "source": [
    "pd.concat([sector_20d_df, sector_60d_df, sector_120d_df],\n",
    "          axis=1).sort_values('6달_수익률', ascending=False).plot(figsize=(13,6), kind='bar');\n",
    "plt.title('업종별_1,3,6달_수익률');"
   ]
  },
  {
   "cell_type": "markdown",
   "metadata": {},
   "source": [
    " "
   ]
  },
  {
   "cell_type": "markdown",
   "metadata": {},
   "source": [
    "##### <연습문제 3-5>\n",
    "**주식 데이터 분석 1(pie chart)**과  **주식 데이터 분석 2(수익률 상위)** 전체 를  \n",
    "① 3월 23일 기준 (COVID 19 저점),  ② 20일 수익률 기준, 으로 수행해보세요"
   ]
  },
  {
   "cell_type": "code",
   "execution_count": null,
   "metadata": {},
   "outputs": [],
   "source": []
  },
  {
   "cell_type": "markdown",
   "metadata": {},
   "source": [
    "##### 모든 종목들에 대한 보유 기간 별, 수익률 구하기\n",
    "* `.reshape()`를 통해 일자별 수익률을, 한줄로 세웁니다"
   ]
  },
  {
   "cell_type": "code",
   "execution_count": null,
   "metadata": {},
   "outputs": [],
   "source": [
    "d['return_1d']"
   ]
  },
  {
   "cell_type": "code",
   "execution_count": null,
   "metadata": {},
   "outputs": [],
   "source": [
    "d['return_1d'].values, d['return_1d'].values.shape"
   ]
  },
  {
   "cell_type": "code",
   "execution_count": null,
   "metadata": {},
   "outputs": [],
   "source": [
    "d['return_1d'].values.reshape(-1), d['return_1d'].values.reshape(-1).shape"
   ]
  },
  {
   "cell_type": "code",
   "execution_count": null,
   "metadata": {},
   "outputs": [],
   "source": [
    "all_return_df = pd.concat([\n",
    "    pd.Series(d['return_1d'].values.reshape(-1), name='1일_수익률'),\n",
    "    pd.Series(d['return_3d'].values.reshape(-1), name='3일_수익률'),\n",
    "    pd.Series(d['return_5d'].values.reshape(-1), name='5일_수익률'),\n",
    "    pd.Series(d['return_10d'].values.reshape(-1), name='2주_수익률'),\n",
    "    pd.Series(d['return_20d'].values.reshape(-1), name='1달_수익률'),\n",
    "    pd.Series(d['return_60d'].values.reshape(-1), name='3달_수익률'),\n",
    "    pd.Series(d['return_120d'].values.reshape(-1), name='6달_수익률')\n",
    "], axis=1)"
   ]
  },
  {
   "cell_type": "markdown",
   "metadata": {},
   "source": [
    " "
   ]
  },
  {
   "cell_type": "raw",
   "metadata": {},
   "source": [
    "all_return_df"
   ]
  },
  {
   "cell_type": "code",
   "execution_count": null,
   "metadata": {},
   "outputs": [],
   "source": []
  },
  {
   "cell_type": "markdown",
   "metadata": {},
   "source": [
    " "
   ]
  },
  {
   "cell_type": "code",
   "execution_count": null,
   "metadata": {},
   "outputs": [],
   "source": [
    "all_return_df.describe().round(3)"
   ]
  },
  {
   "cell_type": "code",
   "execution_count": null,
   "metadata": {},
   "outputs": [],
   "source": [
    "all_return_df"
   ]
  },
  {
   "cell_type": "markdown",
   "metadata": {},
   "source": [
    " "
   ]
  },
  {
   "cell_type": "raw",
   "metadata": {},
   "source": [
    "all_return_df.boxplot(figsize=(12,6), showfliers=False, showmeans=True, fontsize=12);\n",
    "plt.title('전 종목 기간별 수익률 (%)  Boxplot', fontsize=14, fontweight='bold');"
   ]
  },
  {
   "cell_type": "code",
   "execution_count": null,
   "metadata": {},
   "outputs": [],
   "source": [
    "all_return_df\n",
    "\n",
    "plt.title('전 종목 기간별 수익률 (%)  Boxplot', fontsize=14, fontweight='bold');"
   ]
  },
  {
   "cell_type": "markdown",
   "metadata": {},
   "source": [
    " "
   ]
  },
  {
   "cell_type": "markdown",
   "metadata": {},
   "source": [
    "## 가설과 실험 수행하기"
   ]
  },
  {
   "cell_type": "code",
   "execution_count": null,
   "metadata": {},
   "outputs": [],
   "source": [
    "# 전체 날짜 리스트 만들어두기\n",
    "date_list = d['adj_close'].columns\n",
    "date_list"
   ]
  },
  {
   "cell_type": "markdown",
   "metadata": {},
   "source": [
    " "
   ]
  },
  {
   "cell_type": "markdown",
   "metadata": {},
   "source": [
    "#### 주식 데이터 분석3. 데이터를 가공하서 종목을 선별해보자 (적자 종목 제거, 하락추세 종목 제거, 종목별 PER 산출, 종목별 거래대금 분석 등)"
   ]
  },
  {
   "cell_type": "raw",
   "metadata": {},
   "source": [
    "# 20일간의 투자 수익률을 계산할 예정이므로, 뒤에서 20번째 날짜를 골라야 합니다.\n",
    "date_list[-21]"
   ]
  },
  {
   "cell_type": "code",
   "execution_count": null,
   "metadata": {},
   "outputs": [],
   "source": []
  },
  {
   "cell_type": "markdown",
   "metadata": {},
   "source": [
    " "
   ]
  },
  {
   "cell_type": "raw",
   "metadata": {},
   "source": [
    "# 매수할 날짜 지정하기\n",
    "buy_date = '2020-09-10'"
   ]
  },
  {
   "cell_type": "code",
   "execution_count": null,
   "metadata": {},
   "outputs": [],
   "source": [
    "buy_date = "
   ]
  },
  {
   "cell_type": "markdown",
   "metadata": {},
   "source": [
    " "
   ]
  },
  {
   "cell_type": "raw",
   "metadata": {},
   "source": [
    "# 데이터에 제공되지 않은 지표, PER과 PBR 계산하여 딕셔너리에 저장하기 (고평가 지표)\n",
    "d['per'] = d['mc'] / d['ni']\n",
    "d['pbr'] = d['mc'] / d['eq']"
   ]
  },
  {
   "cell_type": "code",
   "execution_count": null,
   "metadata": {},
   "outputs": [],
   "source": [
    "d['per'] = \n",
    "d['pbr'] = "
   ]
  },
  {
   "cell_type": "markdown",
   "metadata": {},
   "source": [
    " "
   ]
  },
  {
   "cell_type": "code",
   "execution_count": null,
   "metadata": {},
   "outputs": [],
   "source": [
    "# 매수 날짜에 해당하는 데이터 Series로 추출하기 \n",
    "\n",
    "series_list = []\n",
    "for table_name in ['adj_close', 'mc', 'sales', 'op', 'ni', 'return_20d', 'per', 'pbr']:\n",
    "    sr = pd.Series(d[table_name].loc[:,buy_date])\n",
    "    sr.name = table_name\n",
    "    series_list.append(sr)"
   ]
  },
  {
   "cell_type": "raw",
   "metadata": {},
   "source": [
    "# 추출한 Series들로 매수 날짜의 데이터 dataframe 만들기\n",
    "date_data = pd.concat(series_list, axis=1)\n",
    "date_data"
   ]
  },
  {
   "cell_type": "code",
   "execution_count": null,
   "metadata": {},
   "outputs": [],
   "source": [
    "date_data = pd.concat()\n"
   ]
  },
  {
   "cell_type": "markdown",
   "metadata": {},
   "source": [
    " "
   ]
  },
  {
   "cell_type": "raw",
   "metadata": {},
   "source": [
    "# 필터링으로 우량한 조건을 걸어, 종목 선별하기\n",
    "date_data.query(\"ni > 0 and return_20d > 1.0 and per < 10 and pbr < 10\")"
   ]
  },
  {
   "cell_type": "code",
   "execution_count": null,
   "metadata": {},
   "outputs": [],
   "source": [
    "date_data.query(  )"
   ]
  },
  {
   "cell_type": "markdown",
   "metadata": {},
   "source": [
    " "
   ]
  },
  {
   "cell_type": "raw",
   "metadata": {},
   "source": [
    "# 선별된 종목의 인덱스 뽑아내기\n",
    "buy_stock_index = date_data.query(\"ni > 0  and  return_20d > 2.0  and  per < 10  and  pbr < 10\").index\n",
    "buy_stock_index"
   ]
  },
  {
   "cell_type": "code",
   "execution_count": null,
   "metadata": {},
   "outputs": [],
   "source": [
    "buy_stock_index = date_data.query(  )\n"
   ]
  },
  {
   "cell_type": "markdown",
   "metadata": {},
   "source": [
    " "
   ]
  },
  {
   "cell_type": "markdown",
   "metadata": {},
   "source": [
    "#### 시뮬레이션1. 분석을 통해 선별한 종목에 투자하면 수익률이 어떨까?"
   ]
  },
  {
   "cell_type": "raw",
   "metadata": {},
   "source": [
    "# 전 종목의 평균 수익률\n",
    "d['return_20d'].loc[:, '2020-10-14'].mean()"
   ]
  },
  {
   "cell_type": "code",
   "execution_count": null,
   "metadata": {},
   "outputs": [],
   "source": [
    "d[].loc[]"
   ]
  },
  {
   "cell_type": "markdown",
   "metadata": {},
   "source": [
    " "
   ]
  },
  {
   "cell_type": "raw",
   "metadata": {},
   "source": [
    "# 선별한 종목의 평균 수익률\n",
    "d['return_20d'].loc[buy_stock_index, '2020-10-14'].mean()"
   ]
  },
  {
   "cell_type": "code",
   "execution_count": null,
   "metadata": {},
   "outputs": [],
   "source": [
    "d[].loc[]"
   ]
  },
  {
   "cell_type": "markdown",
   "metadata": {},
   "source": [
    " "
   ]
  },
  {
   "cell_type": "markdown",
   "metadata": {},
   "source": [
    "#### 시뮬레이션2. 차트 이동평균선 분석을 통해 투자하면, 수익률이 어떨까?"
   ]
  },
  {
   "cell_type": "raw",
   "metadata": {},
   "source": [
    "# 20일 이동평균선 딕셔너리에 할당하기\n",
    "d['adj_close_sma20d'] = d['adj_close'].rolling(20, axis=1).mean()"
   ]
  },
  {
   "cell_type": "code",
   "execution_count": null,
   "metadata": {},
   "outputs": [],
   "source": [
    "d[''] = d['adj_close']"
   ]
  },
  {
   "cell_type": "markdown",
   "metadata": {},
   "source": [
    " "
   ]
  },
  {
   "cell_type": "code",
   "execution_count": null,
   "metadata": {},
   "outputs": [],
   "source": [
    "# 시뮬레이션을 위한 날짜 변수와 날짜 인덱스 변수 만들기\n",
    "date_list = d['adj_close'].columns\n",
    "date_i = np.arange(len(date_list))"
   ]
  },
  {
   "cell_type": "code",
   "execution_count": null,
   "metadata": {},
   "outputs": [],
   "source": [
    "# 날짜 변수 확인하기 (앞부분)\n",
    "date_list[:5], date_i[:5]"
   ]
  },
  {
   "cell_type": "code",
   "execution_count": null,
   "metadata": {},
   "outputs": [],
   "source": [
    "# 날짜 변수 확인하기 (뒷부분)\n",
    "date_list[-5:], date_i[-5:]"
   ]
  },
  {
   "cell_type": "markdown",
   "metadata": {},
   "source": [
    " "
   ]
  },
  {
   "cell_type": "raw",
   "metadata": {},
   "source": [
    "# 시뮬레이션 할 종목 선택하기\n",
    "\n",
    "code = 'A060250'   # 'A060250' NHN한국사이버결제,   'A068270' 셀트리온\n",
    "code_name = stock_info.loc[code, 'itemname']\n",
    "code, codename"
   ]
  },
  {
   "cell_type": "code",
   "execution_count": null,
   "metadata": {},
   "outputs": [],
   "source": [
    "code = \n",
    "code_name = stock_info.loc[code, 'itemname']\n",
    "code, codename"
   ]
  },
  {
   "cell_type": "markdown",
   "metadata": {},
   "source": [
    " "
   ]
  },
  {
   "cell_type": "markdown",
   "metadata": {},
   "source": [
    "##### 20일 이평선 상향 돌파 신호 포착하기"
   ]
  },
  {
   "cell_type": "code",
   "execution_count": null,
   "metadata": {},
   "outputs": [],
   "source": [
    "print(\"20일 이동평균선 상향 돌파 Signal\")\n",
    "\n",
    "for i in date_i:\n",
    "    \n",
    "    # (첫 날)과  (마지막날-20일전) 이후는 계산을 할 수 없으므로 제외합니다\n",
    "    if i < 1 or i > 560:\n",
    "        continue\n",
    "    \n",
    "    prev_date = date_list[i-1]\n",
    "    now_date = date_list[i]\n",
    "    \n",
    "    직전_주가 = d['adj_close'].loc[code, prev_date]\n",
    "    당일_주가 = d['adj_close'].loc[code, now_date]\n",
    "    \n",
    "    직전_이평선 = d['adj_close_sma20d'].loc[code, prev_date]\n",
    "    당일_이평선 = d['adj_close_sma20d'].loc[code, now_date]\n",
    "    \n",
    "    # 20일 골든 크로스의 조건 (어제는 이평선 밑, 당일은 이평선 위)\n",
    "    if 직전_주가 < 직전_이평선 and 당일_주가 > 당일_이평선:\n",
    "        print(f\"  - {now_date}  Signal 발생!  직전 주가 {직전_주가} 이평선 {직전_이평선} ,  당일 주가 {당일_주가} 이평선 {당일_이평선}\")"
   ]
  },
  {
   "cell_type": "markdown",
   "metadata": {},
   "source": [
    "##### 매도시 주가 및 수익률 계산 코드 추가"
   ]
  },
  {
   "cell_type": "raw",
   "metadata": {},
   "source": [
    "print(\"20일 이동평균선 상향 돌파 Signal\")\n",
    "\n",
    "보유일 = 20\n",
    "\n",
    "for i in date_i:\n",
    "    \n",
    "    # (첫 날)과  (마지막날-20일전) 이후는 계산을 할 수 없으므로 제외합니다\n",
    "    if i < 1 or i > 560:\n",
    "        continue\n",
    "    \n",
    "    prev_date = date_list[i-1]\n",
    "    now_date = date_list[i]\n",
    "    \n",
    "    직전_주가 = d['adj_close'].loc[code, prev_date]\n",
    "    당일_주가 = d['adj_close'].loc[code, now_date]\n",
    "    \n",
    "    직전_이평선 = d['adj_close_sma20d'].loc[code, prev_date]\n",
    "    당일_이평선 = d['adj_close_sma20d'].loc[code, now_date]\n",
    "    \n",
    "    # 20일 골든 크로스의 조건 (어제는 이평선 밑, 당일은 이평선 위)\n",
    "    if 직전_주가 < 직전_이평선 and 당일_주가 > 당일_이평선:\n",
    "        \n",
    "        #--------------------------------------------------------------------------------------------start\n",
    "        sell_date = date_list[i+보유일]\n",
    "        매도시_주가 = d['adj_close'].loc[code, sell_date]\n",
    "        수익률 = (매도시_주가 / 당일_주가)*100 - 100\n",
    "        \n",
    "        print(f\"  - {now_date}  Signal 발생!  매수주가 {직전_주가:.0f}  ->  매도주가 {매도시_주가:.0f}  , 수익률 {수익률:.3f} %\")\n",
    "        #--------------------------------------------------------------------------------------------end"
   ]
  },
  {
   "cell_type": "code",
   "execution_count": null,
   "metadata": {},
   "outputs": [],
   "source": [
    "print(\"20일 이동평균선 상향 돌파 Signal\")\n",
    "\n",
    "보유일 = 20\n",
    "\n",
    "for i in date_i:\n",
    "    \n",
    "    # (첫 날)과  (마지막날-20일전) 이후는 계산을 할 수 없으므로 제외합니다\n",
    "    if i < 1 or i > 560:\n",
    "        continue\n",
    "    \n",
    "    prev_date = date_list[i-1]\n",
    "    now_date = date_list[i]\n",
    "    \n",
    "    직전_주가 = d['adj_close'].loc[code, prev_date]\n",
    "    당일_주가 = d['adj_close'].loc[code, now_date]\n",
    "    \n",
    "    직전_이평선 = d['adj_close_sma20d'].loc[code, prev_date]\n",
    "    당일_이평선 = d['adj_close_sma20d'].loc[code, now_date]\n",
    "    \n",
    "    # 20일 골든 크로스의 조건 (어제는 이평선 밑, 당일은 이평선 위)\n",
    "    if 직전_주가 < 직전_이평선 and 당일_주가 > 당일_이평선:\n",
    "        \n",
    "        #--------------------------------------------------------------------------------------------start\n",
    "        \n",
    "        print(f\"  - {now_date}  Signal 발생!  매수주가 {직전_주가:.0f}  ->  매도주가 {매도시_주가:.0f}  , 수익률 {수익률:.3f} %\")\n",
    "        #--------------------------------------------------------------------------------------------end"
   ]
  },
  {
   "cell_type": "markdown",
   "metadata": {},
   "source": [
    " "
   ]
  },
  {
   "cell_type": "markdown",
   "metadata": {},
   "source": [
    "##### 투자 수익률 합산을 위한 리스트를 생성하고, 결과 저장하기"
   ]
  },
  {
   "cell_type": "raw",
   "metadata": {},
   "source": [
    "print(\"20일 이동평균선 상향 돌파 Signal\")\n",
    "\n",
    "보유일 = 30\n",
    "\n",
    "#--------------------------------------------------------------------------------------------start\n",
    "signal_i_list = []\n",
    "signal_date_list = []\n",
    "signal_price_list = []\n",
    "signal_return_list = []\n",
    "#--------------------------------------------------------------------------------------------end\n",
    "\n",
    "\n",
    "for i in date_i:\n",
    "    if i < 1 or i > len(date_list) - 보유일:\n",
    "        continue\n",
    "    \n",
    "    \n",
    "    prev_date = date_list[i-1]\n",
    "    now_date = date_list[i]\n",
    "    \n",
    "    직전_주가 = d['adj_close'].loc[code, prev_date]\n",
    "    당일_주가 = d['adj_close'].loc[code, now_date]\n",
    "    \n",
    "    직전_이평선 = d['adj_close_sma20d'].loc[code, prev_date]\n",
    "    당일_이평선 = d['adj_close_sma20d'].loc[code, now_date]\n",
    "    \n",
    "    \n",
    "    if 직전_주가 < 직전_이평선 and 당일_주가 > 당일_이평선:\n",
    "        \n",
    "        sell_date = date_list[i+보유일]\n",
    "        매도시_주가 = d['adj_close'].loc[code, sell_date]\n",
    "        수익률 = (매도시_주가 / 당일_주가)*100 - 100\n",
    "        \n",
    "        print(f\"  - {now_date}  Signal 발생!  매수주가 {직전_주가:.0f}  ->  매도주가 {매도시_주가:.0f}  , 수익률 {수익률:.3f} %\")\n",
    "        \n",
    "        #--------------------------------------------------------------------------------------------start\n",
    "        signal_i_list.append(i)\n",
    "        signal_date_list.append(now_date)\n",
    "        signal_price_list.append(당일_주가)\n",
    "        signal_return_list.append(수익률)\n",
    "        #--------------------------------------------------------------------------------------------end"
   ]
  },
  {
   "cell_type": "code",
   "execution_count": null,
   "metadata": {},
   "outputs": [],
   "source": [
    "print(\"20일 이동평균선 상향 돌파 Signal\")\n",
    "\n",
    "보유일 = 30\n",
    "\n",
    "#--------------------------------------------------------------------------------------------start\n",
    "\n",
    "#--------------------------------------------------------------------------------------------end\n",
    "\n",
    "\n",
    "for i in date_i:\n",
    "    if i < 1 or i > len(date_list) - 보유일:\n",
    "        continue\n",
    "    \n",
    "    \n",
    "    prev_date = date_list[i-1]\n",
    "    now_date = date_list[i]\n",
    "    \n",
    "    직전_주가 = d['adj_close'].loc[code, prev_date]\n",
    "    당일_주가 = d['adj_close'].loc[code, now_date]\n",
    "    \n",
    "    직전_이평선 = d['adj_close_sma20d'].loc[code, prev_date]\n",
    "    당일_이평선 = d['adj_close_sma20d'].loc[code, now_date]\n",
    "    \n",
    "    \n",
    "    if 직전_주가 < 직전_이평선 and 당일_주가 > 당일_이평선:\n",
    "        \n",
    "        sell_date = date_list[i+보유일]\n",
    "        매도시_주가 = d['adj_close'].loc[code, sell_date]\n",
    "        수익률 = (매도시_주가 / 당일_주가)*100 - 100\n",
    "        \n",
    "        print(f\"  - {now_date}  Signal 발생!  매수주가 {직전_주가:.0f}  ->  매도주가 {매도시_주가:.0f}  , 수익률 {수익률:.3f} %\")\n",
    "        \n",
    "        #--------------------------------------------------------------------------------------------start\n",
    "\n",
    "        #--------------------------------------------------------------------------------------------end"
   ]
  },
  {
   "cell_type": "markdown",
   "metadata": {},
   "source": [
    " "
   ]
  },
  {
   "cell_type": "markdown",
   "metadata": {},
   "source": [
    "##### 이동평균선 돌파 시뮬레이션, 그래프 그려보기"
   ]
  },
  {
   "cell_type": "raw",
   "metadata": {},
   "source": [
    "d['adj_close'].loc[code, :].plot(figsize=(13,6), label='주가');\n",
    "d['adj_close_sma20d'].loc[code, :].plot(label='이평선');\n",
    "plt.scatter(x=signal_i_list, y=signal_price_list, marker=10, color='red', s=100 , label='돌파 signal');\n",
    "\n",
    "plt.title(f\"'{code} {code_name}' 이평선 돌파 전략\")\n",
    "plt.legend();"
   ]
  },
  {
   "cell_type": "code",
   "execution_count": null,
   "metadata": {},
   "outputs": [],
   "source": [
    "d['adj_close'].loc[code, :].plot(figsize=(13,6), label='주가');\n",
    "d['adj_close_sma20d'].loc[code, :].plot(label='이평선');\n",
    "plt.scatter(x=  , y=  , marker=10, color='red', s=100 , label='돌파 signal');\n",
    "\n",
    "plt.title(f\"'{code} {code_name}' 이평선 돌파 전략\")\n",
    "plt.legend();"
   ]
  },
  {
   "cell_type": "markdown",
   "metadata": {},
   "source": [
    "##### 전체 매매 수익률 집계하기"
   ]
  },
  {
   "cell_type": "code",
   "execution_count": null,
   "metadata": {},
   "outputs": [],
   "source": [
    "수익률_합 = sum(signal_return_list)\n",
    "평균_수익률 = 수익률_합 / len(signal_return_list)\n",
    "\n",
    "단순_기간_수익률 = (d['adj_close'].loc[code][-1] / d['adj_close'].loc[code][0]) * 100 - 100\n",
    "\n",
    "print(f\"전체 매매 수익률 합  {수익률_합:.2f}%,  매매 당 평균 수익률  {평균_수익률:.2f}%,  \"\n",
    "      f\"단순 기간 수익률 {단순_기간_수익률:.2f}%\")"
   ]
  },
  {
   "cell_type": "code",
   "execution_count": null,
   "metadata": {},
   "outputs": [],
   "source": []
  },
  {
   "cell_type": "markdown",
   "metadata": {},
   "source": [
    "##### <연습문제 3-6>\n",
    "**이동평균선 돌파 시뮬레이션** 분석을 종목 '셀트리온'에 대해 수행하고, 결과를 출력해보세요"
   ]
  },
  {
   "cell_type": "code",
   "execution_count": null,
   "metadata": {},
   "outputs": [],
   "source": []
  },
  {
   "cell_type": "code",
   "execution_count": null,
   "metadata": {},
   "outputs": [],
   "source": [
    "\n",
    "\n",
    "\n",
    "\n",
    "\n",
    "\n",
    "\n",
    "\n",
    "\n"
   ]
  }
 ],
 "metadata": {
  "kernelspec": {
   "display_name": "ENV(conda_py37)",
   "language": "python",
   "name": "conda_py37"
  },
  "language_info": {
   "codemirror_mode": {
    "name": "ipython",
    "version": 3
   },
   "file_extension": ".py",
   "mimetype": "text/x-python",
   "name": "python",
   "nbconvert_exporter": "python",
   "pygments_lexer": "ipython3",
   "version": "3.7.6"
  },
  "toc": {
   "base_numbering": 1,
   "nav_menu": {},
   "number_sections": false,
   "sideBar": true,
   "skip_h1_title": false,
   "title_cell": "Table of Contents",
   "title_sidebar": "Contents",
   "toc_cell": false,
   "toc_position": {},
   "toc_section_display": true,
   "toc_window_display": false
  },
  "varInspector": {
   "cols": {
    "lenName": 16,
    "lenType": 16,
    "lenVar": 40
   },
   "kernels_config": {
    "python": {
     "delete_cmd_postfix": "",
     "delete_cmd_prefix": "del ",
     "library": "var_list.py",
     "varRefreshCmd": "print(var_dic_list())"
    },
    "r": {
     "delete_cmd_postfix": ") ",
     "delete_cmd_prefix": "rm(",
     "library": "var_list.r",
     "varRefreshCmd": "cat(var_dic_list()) "
    }
   },
   "types_to_exclude": [
    "module",
    "function",
    "builtin_function_or_method",
    "instance",
    "_Feature"
   ],
   "window_display": false
  }
 },
 "nbformat": 4,
 "nbformat_minor": 2
}
